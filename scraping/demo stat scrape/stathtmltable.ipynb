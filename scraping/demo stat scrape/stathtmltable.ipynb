{
 "cells": [
  {
   "cell_type": "code",
   "execution_count": 1,
   "id": "914f9b0e",
   "metadata": {},
   "outputs": [],
   "source": [
    "#Imports\n",
    "#Dependencies\n",
    "from splinter import Browser\n",
    "from bs4 import BeautifulSoup\n",
    "from webdriver_manager.chrome import ChromeDriverManager\n",
    "import pandas as pd\n",
    "import requests"
   ]
  },
  {
   "cell_type": "code",
   "execution_count": 2,
   "id": "46046a31",
   "metadata": {},
   "outputs": [
    {
     "name": "stderr",
     "output_type": "stream",
     "text": [
      "\n",
      "\n",
      "====== WebDriver manager ======\n",
      "Current google-chrome version is 98.0.4758\n",
      "Get LATEST chromedriver version for 98.0.4758 google-chrome\n",
      "Driver [C:\\Users\\skcul\\.wdm\\drivers\\chromedriver\\win32\\98.0.4758.102\\chromedriver.exe] found in cache\n"
     ]
    }
   ],
   "source": [
    "#Splinter \n",
    "executable_path = {'executable_path': ChromeDriverManager().install()}\n",
    "browser = Browser('chrome', **executable_path, headless=False)"
   ]
  },
  {
   "cell_type": "code",
   "execution_count": 3,
   "id": "52d70e72",
   "metadata": {},
   "outputs": [],
   "source": [
    "# Make a list of all team names\n",
    "teams = ['ATL','BRK','BOS','CHO','CHI','CLE','DAL','DEN','DET','GSW','HOU','IND','LAC','LAL','MEM','MIA','MIL','MIN','NOP','NYK','OKC','ORL','PHI','PHO','POR','SAC','SAS','TOR','UTA','WAS']\n",
    "\n",
    "pergame = []\n",
    "totals = []"
   ]
  },
  {
   "cell_type": "code",
   "execution_count": 4,
   "id": "e51148cf",
   "metadata": {},
   "outputs": [
    {
     "name": "stdout",
     "output_type": "stream",
     "text": [
      "Found: ATL Per Game Stats\n",
      "Found: ATL Totals Stats\n",
      "Team Complete\n",
      "---------------------------------------------------\n",
      "Found: BRK Per Game Stats\n",
      "Found: BRK Totals Stats\n",
      "Team Complete\n",
      "---------------------------------------------------\n",
      "Found: BOS Per Game Stats\n",
      "Found: BOS Totals Stats\n",
      "Team Complete\n",
      "---------------------------------------------------\n",
      "Found: CHO Per Game Stats\n",
      "Found: CHO Totals Stats\n",
      "Team Complete\n",
      "---------------------------------------------------\n",
      "Found: CHI Per Game Stats\n",
      "Found: CHI Totals Stats\n",
      "Team Complete\n",
      "---------------------------------------------------\n",
      "Found: CLE Per Game Stats\n",
      "Found: CLE Totals Stats\n",
      "Team Complete\n",
      "---------------------------------------------------\n",
      "Found: DAL Per Game Stats\n",
      "Found: DAL Totals Stats\n",
      "Team Complete\n",
      "---------------------------------------------------\n",
      "Found: DEN Per Game Stats\n",
      "Found: DEN Totals Stats\n",
      "Team Complete\n",
      "---------------------------------------------------\n",
      "Found: DET Per Game Stats\n",
      "Found: DET Totals Stats\n",
      "Team Complete\n",
      "---------------------------------------------------\n",
      "Found: GSW Per Game Stats\n",
      "Found: GSW Totals Stats\n",
      "Team Complete\n",
      "---------------------------------------------------\n",
      "Found: HOU Per Game Stats\n",
      "Found: HOU Totals Stats\n",
      "Team Complete\n",
      "---------------------------------------------------\n",
      "Found: IND Per Game Stats\n",
      "Found: IND Totals Stats\n",
      "Team Complete\n",
      "---------------------------------------------------\n",
      "Found: LAC Per Game Stats\n",
      "Found: LAC Totals Stats\n",
      "Team Complete\n",
      "---------------------------------------------------\n",
      "Found: LAL Per Game Stats\n",
      "Found: LAL Totals Stats\n",
      "Team Complete\n",
      "---------------------------------------------------\n",
      "Found: MEM Per Game Stats\n",
      "Found: MEM Totals Stats\n",
      "Team Complete\n",
      "---------------------------------------------------\n",
      "Found: MIA Per Game Stats\n",
      "Found: MIA Totals Stats\n",
      "Team Complete\n",
      "---------------------------------------------------\n",
      "Found: MIL Per Game Stats\n",
      "Found: MIL Totals Stats\n",
      "Team Complete\n",
      "---------------------------------------------------\n",
      "Found: MIN Per Game Stats\n",
      "Found: MIN Totals Stats\n",
      "Team Complete\n",
      "---------------------------------------------------\n",
      "Found: NOP Per Game Stats\n",
      "Found: NOP Totals Stats\n",
      "Team Complete\n",
      "---------------------------------------------------\n",
      "Found: NYK Per Game Stats\n",
      "Found: NYK Totals Stats\n",
      "Team Complete\n",
      "---------------------------------------------------\n",
      "Found: OKC Per Game Stats\n",
      "Found: OKC Totals Stats\n",
      "Team Complete\n",
      "---------------------------------------------------\n",
      "Found: ORL Per Game Stats\n",
      "Found: ORL Totals Stats\n",
      "Team Complete\n",
      "---------------------------------------------------\n",
      "Found: PHI Per Game Stats\n",
      "Found: PHI Totals Stats\n",
      "Team Complete\n",
      "---------------------------------------------------\n",
      "Found: PHO Per Game Stats\n",
      "Found: PHO Totals Stats\n",
      "Team Complete\n",
      "---------------------------------------------------\n",
      "Found: POR Per Game Stats\n",
      "Found: POR Totals Stats\n",
      "Team Complete\n",
      "---------------------------------------------------\n",
      "Found: SAC Per Game Stats\n",
      "Found: SAC Totals Stats\n",
      "Team Complete\n",
      "---------------------------------------------------\n",
      "Found: SAS Per Game Stats\n",
      "Found: SAS Totals Stats\n",
      "Team Complete\n",
      "---------------------------------------------------\n",
      "Found: TOR Per Game Stats\n",
      "Found: TOR Totals Stats\n",
      "Team Complete\n",
      "---------------------------------------------------\n",
      "Found: UTA Per Game Stats\n",
      "Found: UTA Totals Stats\n",
      "Team Complete\n",
      "---------------------------------------------------\n",
      "Found: WAS Per Game Stats\n",
      "Found: WAS Totals Stats\n",
      "Team Complete\n",
      "---------------------------------------------------\n"
     ]
    }
   ],
   "source": [
    "#Add in url and run browser\n",
    "for team in teams:\n",
    "    url = f'https://www.basketball-reference.com/teams/{team}/2022.html'\n",
    "    browser.visit(url)\n",
    "    html=browser.html\n",
    "    soup = BeautifulSoup(html, 'html.parser')\n",
    "    \n",
    "    #find first table\n",
    "    tables = pd.read_html(url)\n",
    "    atltables = tables[1]\n",
    "\n",
    "    #clean table\n",
    "    atl = atltables.set_index(\"Rk\")\n",
    "    atl1 = atl.rename(columns={'Unnamed: 1':'Player'})\n",
    "    atl2 = atl1.dropna(subset=['Player'])\n",
    "    atl2 = atl2.drop(columns={\"GS\", \"FG\", \"FGA\", \"3P\", \"3PA\", \"2P\", \"2PA\", \"FT\", \"FTA\"})\n",
    "\n",
    "    #convert to html format and append to list\n",
    "    ATLtable = atl2.to_html()\n",
    "    ATLt = ATLtable.replace('\\n','')\n",
    "    pergame.append(ATLt)\n",
    "    print(f\"Found: {team} Per Game Stats\")\n",
    "\n",
    "    #find second table \n",
    "    atltables2 = tables[2]\n",
    "\n",
    "    #clean\n",
    "    atl2 = atltables2.set_index(\"Rk\")\n",
    "    atl12 = atl2.rename(columns={'Unnamed: 1':'Player'})\n",
    "    atl22 = atl12.dropna(subset=['Player'])\n",
    "    atl22 = atl22.drop(columns={\"GS\", \"FG\", \"FGA\", \"3P\", \"3PA\", \"2P\", \"2PA\", \"FT\", \"FTA\"})\n",
    "\n",
    "    #convert to html format and append to list\n",
    "    ATLtable2 = atl22.to_html()\n",
    "    ATLt2 = ATLtable2.replace('\\n','')\n",
    "    totals.append(ATLt2)\n",
    "    \n",
    "    print(f\"Found: {team} Totals Stats\")\n",
    "    print(f\"Team Complete\")\n",
    "    print(\"---------------------------------------------------\")\n",
    "\n",
    "    "
   ]
  },
  {
   "cell_type": "code",
   "execution_count": 61,
   "id": "021fe28b",
   "metadata": {},
   "outputs": [
    {
     "data": {
      "text/plain": [
       "'<table border=\"1\" class=\"dataframe\">  <thead>    <tr style=\"text-align: right;\">      <th></th>      <th>Player</th>      <th>Age</th>      <th>G</th>      <th>MP</th>      <th>FG%</th>      <th>3P%</th>      <th>2P%</th>      <th>eFG%</th>      <th>FT%</th>      <th>ORB</th>      <th>DRB</th>      <th>TRB</th>      <th>AST</th>      <th>STL</th>      <th>BLK</th>      <th>TOV</th>      <th>PF</th>      <th>PTS/G</th>    </tr>    <tr>      <th>Rk</th>      <th></th>      <th></th>      <th></th>      <th></th>      <th></th>      <th></th>      <th></th>      <th></th>      <th></th>      <th></th>      <th></th>      <th></th>      <th></th>      <th></th>      <th></th>      <th></th>      <th></th>      <th></th>    </tr>  </thead>  <tbody>    <tr>      <th>1</th>      <td>Bradley Beal</td>      <td>28</td>      <td>40</td>      <td>36.0</td>      <td>0.451</td>      <td>0.300</td>      <td>0.508</td>      <td>0.492</td>      <td>0.833</td>      <td>1.0</td>      <td>3.8</td>      <td>4.7</td>      <td>6.6</td>      <td>0.9</td>      <td>0.4</td>      <td>3.4</td>      <td>2.4</td>      <td>23.2</td>    </tr>    <tr>      <th>2</th>      <td>Kyle Kuzma</td>      <td>26</td>      <td>58</td>      <td>33.5</td>      <td>0.457</td>      <td>0.350</td>      <td>0.529</td>      <td>0.527</td>      <td>0.720</td>      <td>1.1</td>      <td>7.7</td>      <td>8.8</td>      <td>3.2</td>      <td>0.7</td>      <td>0.9</td>      <td>2.5</td>      <td>1.9</td>      <td>17.0</td>    </tr>    <tr>      <th>3</th>      <td>Spencer Dinwiddie</td>      <td>28</td>      <td>44</td>      <td>30.2</td>      <td>0.376</td>      <td>0.310</td>      <td>0.432</td>      <td>0.447</td>      <td>0.811</td>      <td>0.8</td>      <td>3.9</td>      <td>4.7</td>      <td>5.8</td>      <td>0.6</td>      <td>0.2</td>      <td>1.7</td>      <td>2.4</td>      <td>12.6</td>    </tr>    <tr>      <th>4</th>      <td>Kentavious Caldwell-Pope</td>      <td>28</td>      <td>58</td>      <td>29.8</td>      <td>0.412</td>      <td>0.383</td>      <td>0.441</td>      <td>0.508</td>      <td>0.913</td>      <td>0.5</td>      <td>2.8</td>      <td>3.3</td>      <td>1.8</td>      <td>1.1</td>      <td>0.4</td>      <td>1.2</td>      <td>1.7</td>      <td>11.9</td>    </tr>    <tr>      <th>5</th>      <td>Brad Wanamaker</td>      <td>32</td>      <td>1</td>      <td>27.0</td>      <td>0.400</td>      <td>NaN</td>      <td>0.400</td>      <td>0.400</td>      <td>1.000</td>      <td>0.0</td>      <td>4.0</td>      <td>4.0</td>      <td>7.0</td>      <td>2.0</td>      <td>0.0</td>      <td>0.0</td>      <td>3.0</td>      <td>7.0</td>    </tr>    <tr>      <th>6</th>      <td>Montrezl Harrell</td>      <td>28</td>      <td>46</td>      <td>24.3</td>      <td>0.645</td>      <td>0.267</td>      <td>0.660</td>      <td>0.650</td>      <td>0.727</td>      <td>2.1</td>      <td>4.6</td>      <td>6.7</td>      <td>2.1</td>      <td>0.4</td>      <td>0.7</td>      <td>1.1</td>      <td>1.9</td>      <td>14.1</td>    </tr>    <tr>      <th>7</th>      <td>Deni Avdija</td>      <td>21</td>      <td>61</td>      <td>23.4</td>      <td>0.438</td>      <td>0.308</td>      <td>0.542</td>      <td>0.506</td>      <td>0.772</td>      <td>0.6</td>      <td>4.5</td>      <td>5.1</td>      <td>1.7</td>      <td>0.8</td>      <td>0.6</td>      <td>0.9</td>      <td>2.3</td>      <td>7.6</td>    </tr>    <tr>      <th>8</th>      <td>Ish Smith</td>      <td>33</td>      <td>7</td>      <td>22.1</td>      <td>0.525</td>      <td>0.364</td>      <td>0.560</td>      <td>0.557</td>      <td>0.000</td>      <td>0.9</td>      <td>2.1</td>      <td>3.0</td>      <td>5.3</td>      <td>0.7</td>      <td>0.4</td>      <td>1.7</td>      <td>2.7</td>      <td>9.7</td>    </tr>    <tr>      <th>9</th>      <td>Raul Neto</td>      <td>29</td>      <td>52</td>      <td>20.8</td>      <td>0.457</td>      <td>0.273</td>      <td>0.527</td>      <td>0.494</td>      <td>0.750</td>      <td>0.2</td>      <td>1.8</td>      <td>2.0</td>      <td>3.0</td>      <td>0.8</td>      <td>0.0</td>      <td>1.2</td>      <td>1.6</td>      <td>8.1</td>    </tr>    <tr>      <th>10</th>      <td>Daniel Gafford</td>      <td>23</td>      <td>52</td>      <td>20.7</td>      <td>0.686</td>      <td>NaN</td>      <td>0.686</td>      <td>0.686</td>      <td>0.719</td>      <td>2.3</td>      <td>3.7</td>      <td>6.0</td>      <td>1.0</td>      <td>0.4</td>      <td>1.5</td>      <td>0.9</td>      <td>2.4</td>      <td>9.1</td>    </tr>    <tr>      <th>11</th>      <td>Corey Kispert</td>      <td>22</td>      <td>56</td>      <td>20.6</td>      <td>0.429</td>      <td>0.321</td>      <td>0.586</td>      <td>0.524</td>      <td>0.870</td>      <td>0.7</td>      <td>1.9</td>      <td>2.6</td>      <td>1.1</td>      <td>0.4</td>      <td>0.3</td>      <td>0.6</td>      <td>1.1</td>      <td>6.9</td>    </tr>    <tr>      <th>12</th>      <td>Rui Hachimura</td>      <td>23</td>      <td>21</td>      <td>18.7</td>      <td>0.461</td>      <td>0.522</td>      <td>0.435</td>      <td>0.539</td>      <td>0.767</td>      <td>0.4</td>      <td>2.6</td>      <td>3.0</td>      <td>1.0</td>      <td>0.6</td>      <td>0.2</td>      <td>0.7</td>      <td>1.2</td>      <td>9.0</td>    </tr>    <tr>      <th>13</th>      <td>Thomas Bryant</td>      <td>24</td>      <td>19</td>      <td>17.4</td>      <td>0.508</td>      <td>0.294</td>      <td>0.593</td>      <td>0.550</td>      <td>0.852</td>      <td>1.3</td>      <td>2.7</td>      <td>4.0</td>      <td>0.9</td>      <td>0.3</td>      <td>0.7</td>      <td>0.8</td>      <td>1.6</td>      <td>8.2</td>    </tr>    <tr>      <th>14</th>      <td>Aaron Holiday</td>      <td>25</td>      <td>41</td>      <td>16.2</td>      <td>0.467</td>      <td>0.343</td>      <td>0.524</td>      <td>0.521</td>      <td>0.800</td>      <td>0.2</td>      <td>1.4</td>      <td>1.6</td>      <td>1.9</td>      <td>0.6</td>      <td>0.2</td>      <td>1.0</td>      <td>1.5</td>      <td>6.1</td>    </tr>    <tr>      <th>15</th>      <td>Dāvis Bertāns</td>      <td>29</td>      <td>34</td>      <td>14.7</td>      <td>0.351</td>      <td>0.319</td>      <td>0.519</td>      <td>0.485</td>      <td>0.933</td>      <td>0.2</td>      <td>1.6</td>      <td>1.8</td>      <td>0.5</td>      <td>0.3</td>      <td>0.2</td>      <td>0.4</td>      <td>1.6</td>      <td>5.7</td>    </tr>    <tr>      <th>16</th>      <td>Tomáš Satoranský</td>      <td>30</td>      <td>1</td>      <td>14.0</td>      <td>1.000</td>      <td>NaN</td>      <td>1.000</td>      <td>1.000</td>      <td>1.000</td>      <td>0.0</td>      <td>3.0</td>      <td>3.0</td>      <td>1.0</td>      <td>2.0</td>      <td>1.0</td>      <td>0.0</td>      <td>0.0</td>      <td>4.0</td>    </tr>    <tr>      <th>17</th>      <td>Greg Monroe</td>      <td>31</td>      <td>2</td>      <td>9.0</td>      <td>0.500</td>      <td>NaN</td>      <td>0.500</td>      <td>0.500</td>      <td>NaN</td>      <td>3.5</td>      <td>1.5</td>      <td>5.0</td>      <td>0.5</td>      <td>0.5</td>      <td>0.5</td>      <td>1.0</td>      <td>1.0</td>      <td>4.0</td>    </tr>    <tr>      <th>18</th>      <td>Anthony Gill</td>      <td>29</td>      <td>28</td>      <td>8.5</td>      <td>0.596</td>      <td>0.583</td>      <td>0.600</td>      <td>0.658</td>      <td>0.710</td>      <td>0.7</td>      <td>0.8</td>      <td>1.5</td>      <td>0.5</td>      <td>0.1</td>      <td>0.2</td>      <td>0.4</td>      <td>1.4</td>      <td>3.5</td>    </tr>    <tr>      <th>19</th>      <td>Tremont Waters</td>      <td>24</td>      <td>1</td>      <td>8.0</td>      <td>0.500</td>      <td>NaN</td>      <td>0.500</td>      <td>0.500</td>      <td>NaN</td>      <td>0.0</td>      <td>0.0</td>      <td>0.0</td>      <td>0.0</td>      <td>1.0</td>      <td>0.0</td>      <td>0.0</td>      <td>2.0</td>      <td>2.0</td>    </tr>    <tr>      <th>20</th>      <td>Jordan Schakel</td>      <td>23</td>      <td>2</td>      <td>7.0</td>      <td>0.000</td>      <td>0.000</td>      <td>0.000</td>      <td>0.000</td>      <td>NaN</td>      <td>1.0</td>      <td>0.5</td>      <td>1.5</td>      <td>0.0</td>      <td>0.0</td>      <td>0.0</td>      <td>0.0</td>      <td>0.0</td>      <td>0.0</td>    </tr>    <tr>      <th>21</th>      <td>Craig Sword</td>      <td>28</td>      <td>3</td>      <td>6.3</td>      <td>0.750</td>      <td>0.000</td>      <td>1.000</td>      <td>0.750</td>      <td>NaN</td>      <td>0.0</td>      <td>0.0</td>      <td>0.0</td>      <td>0.3</td>      <td>1.3</td>      <td>0.0</td>      <td>0.3</td>      <td>2.3</td>      <td>2.0</td>    </tr>    <tr>      <th>22</th>      <td>Alize Johnson</td>      <td>25</td>      <td>3</td>      <td>6.0</td>      <td>0.333</td>      <td>0.000</td>      <td>0.500</td>      <td>0.333</td>      <td>0.000</td>      <td>1.7</td>      <td>2.3</td>      <td>4.0</td>      <td>0.0</td>      <td>0.0</td>      <td>0.0</td>      <td>1.0</td>      <td>0.0</td>      <td>1.3</td>    </tr>    <tr>      <th>23</th>      <td>Cassius Winston</td>      <td>23</td>      <td>5</td>      <td>5.4</td>      <td>0.500</td>      <td>0.400</td>      <td>1.000</td>      <td>0.667</td>      <td>1.000</td>      <td>0.0</td>      <td>0.0</td>      <td>0.0</td>      <td>1.0</td>      <td>0.0</td>      <td>0.0</td>      <td>0.2</td>      <td>1.4</td>      <td>2.0</td>    </tr>    <tr>      <th>24</th>      <td>Isaiah Todd</td>      <td>20</td>      <td>10</td>      <td>4.1</td>      <td>0.294</td>      <td>0.364</td>      <td>0.167</td>      <td>0.412</td>      <td>0.333</td>      <td>0.2</td>      <td>0.8</td>      <td>1.0</td>      <td>0.3</td>      <td>0.2</td>      <td>0.2</td>      <td>0.1</td>      <td>0.1</td>      <td>1.6</td>    </tr>    <tr>      <th>25</th>      <td>Jordan Goodwin</td>      <td>23</td>      <td>2</td>      <td>3.0</td>      <td>0.000</td>      <td>0.000</td>      <td>0.000</td>      <td>0.000</td>      <td>NaN</td>      <td>0.0</td>      <td>0.5</td>      <td>0.5</td>      <td>0.0</td>      <td>0.0</td>      <td>0.0</td>      <td>0.0</td>      <td>0.5</td>      <td>0.0</td>    </tr>    <tr>      <th>26</th>      <td>Jaime Echenique</td>      <td>24</td>      <td>1</td>      <td>3.0</td>      <td>NaN</td>      <td>NaN</td>      <td>NaN</td>      <td>NaN</td>      <td>NaN</td>      <td>0.0</td>      <td>0.0</td>      <td>0.0</td>      <td>0.0</td>      <td>0.0</td>      <td>0.0</td>      <td>0.0</td>      <td>0.0</td>      <td>0.0</td>    </tr>    <tr>      <th>27</th>      <td>Joel Ayayi</td>      <td>21</td>      <td>7</td>      <td>2.9</td>      <td>0.167</td>      <td>0.000</td>      <td>0.200</td>      <td>0.167</td>      <td>NaN</td>      <td>0.1</td>      <td>0.3</td>      <td>0.4</td>      <td>0.6</td>      <td>0.0</td>      <td>0.0</td>      <td>0.0</td>      <td>0.0</td>      <td>0.3</td>    </tr>    <tr>      <th>28</th>      <td>Vernon Carey Jr.</td>      <td>20</td>      <td>1</td>      <td>1.0</td>      <td>NaN</td>      <td>NaN</td>      <td>NaN</td>      <td>NaN</td>      <td>NaN</td>      <td>0.0</td>      <td>0.0</td>      <td>0.0</td>      <td>0.0</td>      <td>0.0</td>      <td>0.0</td>      <td>0.0</td>      <td>0.0</td>      <td>0.0</td>    </tr>  </tbody></table>'"
      ]
     },
     "execution_count": 61,
     "metadata": {},
     "output_type": "execute_result"
    }
   ],
   "source": [
    "pergame[29]"
   ]
  },
  {
   "cell_type": "code",
   "execution_count": 62,
   "id": "611120b6",
   "metadata": {},
   "outputs": [
    {
     "data": {
      "text/plain": [
       "'<table border=\"1\" class=\"dataframe\">  <thead>    <tr style=\"text-align: right;\">      <th></th>      <th>Player</th>      <th>Age</th>      <th>G</th>      <th>MP</th>      <th>FG%</th>      <th>3P%</th>      <th>2P%</th>      <th>eFG%</th>      <th>FT%</th>      <th>ORB</th>      <th>DRB</th>      <th>TRB</th>      <th>AST</th>      <th>STL</th>      <th>BLK</th>      <th>TOV</th>      <th>PF</th>      <th>PTS</th>    </tr>    <tr>      <th>Rk</th>      <th></th>      <th></th>      <th></th>      <th></th>      <th></th>      <th></th>      <th></th>      <th></th>      <th></th>      <th></th>      <th></th>      <th></th>      <th></th>      <th></th>      <th></th>      <th></th>      <th></th>      <th></th>    </tr>  </thead>  <tbody>    <tr>      <th>1.0</th>      <td>Kyle Kuzma</td>      <td>26.0</td>      <td>58</td>      <td>1944</td>      <td>0.457</td>      <td>0.350</td>      <td>0.529</td>      <td>0.527</td>      <td>0.720</td>      <td>64</td>      <td>449</td>      <td>513</td>      <td>185</td>      <td>39</td>      <td>51</td>      <td>144</td>      <td>109</td>      <td>988</td>    </tr>    <tr>      <th>2.0</th>      <td>Kentavious Caldwell-Pope</td>      <td>28.0</td>      <td>58</td>      <td>1726</td>      <td>0.412</td>      <td>0.383</td>      <td>0.441</td>      <td>0.508</td>      <td>0.913</td>      <td>29</td>      <td>164</td>      <td>193</td>      <td>103</td>      <td>62</td>      <td>21</td>      <td>70</td>      <td>99</td>      <td>689</td>    </tr>    <tr>      <th>3.0</th>      <td>Bradley Beal</td>      <td>28.0</td>      <td>40</td>      <td>1439</td>      <td>0.451</td>      <td>0.300</td>      <td>0.508</td>      <td>0.492</td>      <td>0.833</td>      <td>38</td>      <td>151</td>      <td>189</td>      <td>265</td>      <td>36</td>      <td>15</td>      <td>135</td>      <td>95</td>      <td>928</td>    </tr>    <tr>      <th>4.0</th>      <td>Deni Avdija</td>      <td>21.0</td>      <td>61</td>      <td>1428</td>      <td>0.438</td>      <td>0.308</td>      <td>0.542</td>      <td>0.506</td>      <td>0.772</td>      <td>39</td>      <td>274</td>      <td>313</td>      <td>101</td>      <td>49</td>      <td>35</td>      <td>56</td>      <td>142</td>      <td>464</td>    </tr>    <tr>      <th>5.0</th>      <td>Spencer Dinwiddie</td>      <td>28.0</td>      <td>44</td>      <td>1330</td>      <td>0.376</td>      <td>0.310</td>      <td>0.432</td>      <td>0.447</td>      <td>0.811</td>      <td>36</td>      <td>171</td>      <td>207</td>      <td>256</td>      <td>27</td>      <td>7</td>      <td>73</td>      <td>107</td>      <td>556</td>    </tr>    <tr>      <th>6.0</th>      <td>Corey Kispert</td>      <td>22.0</td>      <td>56</td>      <td>1153</td>      <td>0.429</td>      <td>0.321</td>      <td>0.586</td>      <td>0.524</td>      <td>0.870</td>      <td>41</td>      <td>107</td>      <td>148</td>      <td>59</td>      <td>22</td>      <td>17</td>      <td>35</td>      <td>62</td>      <td>385</td>    </tr>    <tr>      <th>7.0</th>      <td>Montrezl Harrell</td>      <td>28.0</td>      <td>46</td>      <td>1117</td>      <td>0.645</td>      <td>0.267</td>      <td>0.660</td>      <td>0.650</td>      <td>0.727</td>      <td>96</td>      <td>213</td>      <td>309</td>      <td>96</td>      <td>18</td>      <td>31</td>      <td>50</td>      <td>88</td>      <td>647</td>    </tr>    <tr>      <th>8.0</th>      <td>Raul Neto</td>      <td>29.0</td>      <td>52</td>      <td>1081</td>      <td>0.457</td>      <td>0.273</td>      <td>0.527</td>      <td>0.494</td>      <td>0.750</td>      <td>12</td>      <td>93</td>      <td>105</td>      <td>154</td>      <td>43</td>      <td>1</td>      <td>62</td>      <td>84</td>      <td>419</td>    </tr>    <tr>      <th>9.0</th>      <td>Daniel Gafford</td>      <td>23.0</td>      <td>52</td>      <td>1074</td>      <td>0.686</td>      <td>NaN</td>      <td>0.686</td>      <td>0.686</td>      <td>0.719</td>      <td>120</td>      <td>190</td>      <td>310</td>      <td>52</td>      <td>21</td>      <td>79</td>      <td>48</td>      <td>126</td>      <td>475</td>    </tr>    <tr>      <th>10.0</th>      <td>Aaron Holiday</td>      <td>25.0</td>      <td>41</td>      <td>663</td>      <td>0.467</td>      <td>0.343</td>      <td>0.524</td>      <td>0.521</td>      <td>0.800</td>      <td>9</td>      <td>58</td>      <td>67</td>      <td>78</td>      <td>24</td>      <td>9</td>      <td>39</td>      <td>60</td>      <td>251</td>    </tr>    <tr>      <th>11.0</th>      <td>Dāvis Bertāns</td>      <td>29.0</td>      <td>34</td>      <td>501</td>      <td>0.351</td>      <td>0.319</td>      <td>0.519</td>      <td>0.485</td>      <td>0.933</td>      <td>6</td>      <td>55</td>      <td>61</td>      <td>16</td>      <td>11</td>      <td>6</td>      <td>14</td>      <td>55</td>      <td>194</td>    </tr>    <tr>      <th>12.0</th>      <td>Rui Hachimura</td>      <td>23.0</td>      <td>21</td>      <td>393</td>      <td>0.461</td>      <td>0.522</td>      <td>0.435</td>      <td>0.539</td>      <td>0.767</td>      <td>8</td>      <td>54</td>      <td>62</td>      <td>21</td>      <td>12</td>      <td>5</td>      <td>15</td>      <td>25</td>      <td>189</td>    </tr>    <tr>      <th>13.0</th>      <td>Thomas Bryant</td>      <td>24.0</td>      <td>19</td>      <td>330</td>      <td>0.508</td>      <td>0.294</td>      <td>0.593</td>      <td>0.550</td>      <td>0.852</td>      <td>24</td>      <td>52</td>      <td>76</td>      <td>18</td>      <td>6</td>      <td>13</td>      <td>15</td>      <td>31</td>      <td>155</td>    </tr>    <tr>      <th>14.0</th>      <td>Anthony Gill</td>      <td>29.0</td>      <td>28</td>      <td>239</td>      <td>0.596</td>      <td>0.583</td>      <td>0.600</td>      <td>0.658</td>      <td>0.710</td>      <td>20</td>      <td>22</td>      <td>42</td>      <td>14</td>      <td>4</td>      <td>6</td>      <td>11</td>      <td>39</td>      <td>97</td>    </tr>    <tr>      <th>15.0</th>      <td>Ish Smith</td>      <td>33.0</td>      <td>7</td>      <td>155</td>      <td>0.525</td>      <td>0.364</td>      <td>0.560</td>      <td>0.557</td>      <td>0.000</td>      <td>6</td>      <td>15</td>      <td>21</td>      <td>37</td>      <td>5</td>      <td>3</td>      <td>12</td>      <td>19</td>      <td>68</td>    </tr>    <tr>      <th>16.0</th>      <td>Isaiah Todd</td>      <td>20.0</td>      <td>10</td>      <td>41</td>      <td>0.294</td>      <td>0.364</td>      <td>0.167</td>      <td>0.412</td>      <td>0.333</td>      <td>2</td>      <td>8</td>      <td>10</td>      <td>3</td>      <td>2</td>      <td>2</td>      <td>1</td>      <td>1</td>      <td>16</td>    </tr>    <tr>      <th>17.0</th>      <td>Brad Wanamaker</td>      <td>32.0</td>      <td>1</td>      <td>27</td>      <td>0.400</td>      <td>NaN</td>      <td>0.400</td>      <td>0.400</td>      <td>1.000</td>      <td>0</td>      <td>4</td>      <td>4</td>      <td>7</td>      <td>2</td>      <td>0</td>      <td>0</td>      <td>3</td>      <td>7</td>    </tr>    <tr>      <th>18.0</th>      <td>Cassius Winston</td>      <td>23.0</td>      <td>5</td>      <td>27</td>      <td>0.500</td>      <td>0.400</td>      <td>1.000</td>      <td>0.667</td>      <td>1.000</td>      <td>0</td>      <td>0</td>      <td>0</td>      <td>5</td>      <td>0</td>      <td>0</td>      <td>1</td>      <td>7</td>      <td>10</td>    </tr>    <tr>      <th>19.0</th>      <td>Joel Ayayi</td>      <td>21.0</td>      <td>7</td>      <td>20</td>      <td>0.167</td>      <td>0.000</td>      <td>0.200</td>      <td>0.167</td>      <td>NaN</td>      <td>1</td>      <td>2</td>      <td>3</td>      <td>4</td>      <td>0</td>      <td>0</td>      <td>0</td>      <td>0</td>      <td>2</td>    </tr>    <tr>      <th>20.0</th>      <td>Craig Sword</td>      <td>28.0</td>      <td>3</td>      <td>19</td>      <td>0.750</td>      <td>0.000</td>      <td>1.000</td>      <td>0.750</td>      <td>NaN</td>      <td>0</td>      <td>0</td>      <td>0</td>      <td>1</td>      <td>4</td>      <td>0</td>      <td>1</td>      <td>7</td>      <td>6</td>    </tr>    <tr>      <th>21.0</th>      <td>Greg Monroe</td>      <td>31.0</td>      <td>2</td>      <td>18</td>      <td>0.500</td>      <td>NaN</td>      <td>0.500</td>      <td>0.500</td>      <td>NaN</td>      <td>7</td>      <td>3</td>      <td>10</td>      <td>1</td>      <td>1</td>      <td>1</td>      <td>2</td>      <td>2</td>      <td>8</td>    </tr>    <tr>      <th>22.0</th>      <td>Alize Johnson</td>      <td>25.0</td>      <td>3</td>      <td>18</td>      <td>0.333</td>      <td>0.000</td>      <td>0.500</td>      <td>0.333</td>      <td>0.000</td>      <td>5</td>      <td>7</td>      <td>12</td>      <td>0</td>      <td>0</td>      <td>0</td>      <td>3</td>      <td>0</td>      <td>4</td>    </tr>    <tr>      <th>23.0</th>      <td>Tomáš Satoranský</td>      <td>30.0</td>      <td>1</td>      <td>14</td>      <td>1.000</td>      <td>NaN</td>      <td>1.000</td>      <td>1.000</td>      <td>1.000</td>      <td>0</td>      <td>3</td>      <td>3</td>      <td>1</td>      <td>2</td>      <td>1</td>      <td>0</td>      <td>0</td>      <td>4</td>    </tr>    <tr>      <th>24.0</th>      <td>Jordan Schakel</td>      <td>23.0</td>      <td>2</td>      <td>14</td>      <td>0.000</td>      <td>0.000</td>      <td>0.000</td>      <td>0.000</td>      <td>NaN</td>      <td>2</td>      <td>1</td>      <td>3</td>      <td>0</td>      <td>0</td>      <td>0</td>      <td>0</td>      <td>0</td>      <td>0</td>    </tr>    <tr>      <th>25.0</th>      <td>Tremont Waters</td>      <td>24.0</td>      <td>1</td>      <td>8</td>      <td>0.500</td>      <td>NaN</td>      <td>0.500</td>      <td>0.500</td>      <td>NaN</td>      <td>0</td>      <td>0</td>      <td>0</td>      <td>0</td>      <td>1</td>      <td>0</td>      <td>0</td>      <td>2</td>      <td>2</td>    </tr>    <tr>      <th>26.0</th>      <td>Jordan Goodwin</td>      <td>23.0</td>      <td>2</td>      <td>6</td>      <td>0.000</td>      <td>0.000</td>      <td>0.000</td>      <td>0.000</td>      <td>NaN</td>      <td>0</td>      <td>1</td>      <td>1</td>      <td>0</td>      <td>0</td>      <td>0</td>      <td>0</td>      <td>1</td>      <td>0</td>    </tr>    <tr>      <th>27.0</th>      <td>Jaime Echenique</td>      <td>24.0</td>      <td>1</td>      <td>3</td>      <td>NaN</td>      <td>NaN</td>      <td>NaN</td>      <td>NaN</td>      <td>NaN</td>      <td>0</td>      <td>0</td>      <td>0</td>      <td>0</td>      <td>0</td>      <td>0</td>      <td>0</td>      <td>0</td>      <td>0</td>    </tr>    <tr>      <th>28.0</th>      <td>Vernon Carey Jr.</td>      <td>20.0</td>      <td>1</td>      <td>1</td>      <td>NaN</td>      <td>NaN</td>      <td>NaN</td>      <td>NaN</td>      <td>NaN</td>      <td>0</td>      <td>0</td>      <td>0</td>      <td>0</td>      <td>0</td>      <td>0</td>      <td>0</td>      <td>0</td>      <td>0</td>    </tr>  </tbody></table>'"
      ]
     },
     "execution_count": 62,
     "metadata": {},
     "output_type": "execute_result"
    }
   ],
   "source": [
    "totals[29]"
   ]
  },
  {
   "cell_type": "code",
   "execution_count": null,
   "id": "e56ca97c",
   "metadata": {},
   "outputs": [],
   "source": []
  },
  {
   "cell_type": "code",
   "execution_count": null,
   "id": "83238f59",
   "metadata": {},
   "outputs": [],
   "source": []
  },
  {
   "cell_type": "code",
   "execution_count": null,
   "id": "19570e88",
   "metadata": {},
   "outputs": [],
   "source": []
  },
  {
   "cell_type": "code",
   "execution_count": null,
   "id": "8d27d599",
   "metadata": {},
   "outputs": [],
   "source": []
  },
  {
   "cell_type": "code",
   "execution_count": null,
   "id": "f474d850",
   "metadata": {},
   "outputs": [],
   "source": []
  }
 ],
 "metadata": {
  "kernelspec": {
   "display_name": "Python 3",
   "language": "python",
   "name": "python3"
  },
  "language_info": {
   "codemirror_mode": {
    "name": "ipython",
    "version": 3
   },
   "file_extension": ".py",
   "mimetype": "text/x-python",
   "name": "python",
   "nbconvert_exporter": "python",
   "pygments_lexer": "ipython3",
   "version": "3.8.8"
  }
 },
 "nbformat": 4,
 "nbformat_minor": 5
}
