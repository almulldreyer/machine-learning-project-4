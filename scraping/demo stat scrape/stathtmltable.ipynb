{
 "cells": [
  {
   "cell_type": "code",
   "execution_count": 1,
   "id": "914f9b0e",
   "metadata": {},
   "outputs": [],
   "source": [
    "#Imports\n",
    "#Dependencies\n",
    "from splinter import Browser\n",
    "from bs4 import BeautifulSoup\n",
    "from webdriver_manager.chrome import ChromeDriverManager\n",
    "import pandas as pd\n",
    "import requests"
   ]
  },
  {
   "cell_type": "code",
   "execution_count": 2,
   "id": "46046a31",
   "metadata": {},
   "outputs": [
    {
     "name": "stderr",
     "output_type": "stream",
     "text": [
      "\n",
      "\n",
      "====== WebDriver manager ======\n",
      "Current google-chrome version is 98.0.4758\n",
      "Get LATEST chromedriver version for 98.0.4758 google-chrome\n",
      "Trying to download new driver from https://chromedriver.storage.googleapis.com/98.0.4758.102/chromedriver_win32.zip\n",
      "Driver has been saved in cache [C:\\Users\\skcul\\.wdm\\drivers\\chromedriver\\win32\\98.0.4758.102]\n"
     ]
    }
   ],
   "source": [
    "#Splinter \n",
    "executable_path = {'executable_path': ChromeDriverManager().install()}\n",
    "browser = Browser('chrome', **executable_path, headless=False)"
   ]
  },
  {
   "cell_type": "code",
   "execution_count": 3,
   "id": "52d70e72",
   "metadata": {},
   "outputs": [],
   "source": [
    "# Make a list of all team names\n",
    "teams = ['ATL','BRK','BOS','CHO','CHI','CLE','DAL','DEN','DET','GSW','HOU','IND','LAC','LAL','MEM','MIA','MIL','MIN','NOP','NYK','OKC','ORL','PHI','PHO','POR','SAC','SAS','TOR','UTA','WAS']\n",
    "pergame = []\n",
    "totals = []"
   ]
  },
  {
   "cell_type": "code",
   "execution_count": 4,
   "id": "e51148cf",
   "metadata": {},
   "outputs": [
    {
     "name": "stdout",
     "output_type": "stream",
     "text": [
      "Found: ATL Per Game Stats\n",
      "Found: ATL Totals Stats\n",
      "Team Complete\n",
      "---------------------------------------------------\n",
      "Found: BRK Per Game Stats\n",
      "Found: BRK Totals Stats\n",
      "Team Complete\n",
      "---------------------------------------------------\n",
      "Found: BOS Per Game Stats\n",
      "Found: BOS Totals Stats\n",
      "Team Complete\n",
      "---------------------------------------------------\n",
      "Found: CHO Per Game Stats\n",
      "Found: CHO Totals Stats\n",
      "Team Complete\n",
      "---------------------------------------------------\n",
      "Found: CHI Per Game Stats\n",
      "Found: CHI Totals Stats\n",
      "Team Complete\n",
      "---------------------------------------------------\n",
      "Found: CLE Per Game Stats\n",
      "Found: CLE Totals Stats\n",
      "Team Complete\n",
      "---------------------------------------------------\n",
      "Found: DAL Per Game Stats\n",
      "Found: DAL Totals Stats\n",
      "Team Complete\n",
      "---------------------------------------------------\n",
      "Found: DEN Per Game Stats\n",
      "Found: DEN Totals Stats\n",
      "Team Complete\n",
      "---------------------------------------------------\n",
      "Found: DET Per Game Stats\n",
      "Found: DET Totals Stats\n",
      "Team Complete\n",
      "---------------------------------------------------\n",
      "Found: GSW Per Game Stats\n",
      "Found: GSW Totals Stats\n",
      "Team Complete\n",
      "---------------------------------------------------\n",
      "Found: HOU Per Game Stats\n",
      "Found: HOU Totals Stats\n",
      "Team Complete\n",
      "---------------------------------------------------\n",
      "Found: IND Per Game Stats\n",
      "Found: IND Totals Stats\n",
      "Team Complete\n",
      "---------------------------------------------------\n",
      "Found: LAC Per Game Stats\n",
      "Found: LAC Totals Stats\n",
      "Team Complete\n",
      "---------------------------------------------------\n",
      "Found: LAL Per Game Stats\n",
      "Found: LAL Totals Stats\n",
      "Team Complete\n",
      "---------------------------------------------------\n",
      "Found: MEM Per Game Stats\n",
      "Found: MEM Totals Stats\n",
      "Team Complete\n",
      "---------------------------------------------------\n",
      "Found: MIA Per Game Stats\n",
      "Found: MIA Totals Stats\n",
      "Team Complete\n",
      "---------------------------------------------------\n",
      "Found: MIL Per Game Stats\n",
      "Found: MIL Totals Stats\n",
      "Team Complete\n",
      "---------------------------------------------------\n",
      "Found: MIN Per Game Stats\n",
      "Found: MIN Totals Stats\n",
      "Team Complete\n",
      "---------------------------------------------------\n",
      "Found: NOP Per Game Stats\n",
      "Found: NOP Totals Stats\n",
      "Team Complete\n",
      "---------------------------------------------------\n",
      "Found: NYK Per Game Stats\n",
      "Found: NYK Totals Stats\n",
      "Team Complete\n",
      "---------------------------------------------------\n",
      "Found: OKC Per Game Stats\n",
      "Found: OKC Totals Stats\n",
      "Team Complete\n",
      "---------------------------------------------------\n",
      "Found: ORL Per Game Stats\n",
      "Found: ORL Totals Stats\n",
      "Team Complete\n",
      "---------------------------------------------------\n",
      "Found: PHI Per Game Stats\n",
      "Found: PHI Totals Stats\n",
      "Team Complete\n",
      "---------------------------------------------------\n",
      "Found: PHO Per Game Stats\n",
      "Found: PHO Totals Stats\n",
      "Team Complete\n",
      "---------------------------------------------------\n",
      "Found: POR Per Game Stats\n",
      "Found: POR Totals Stats\n",
      "Team Complete\n",
      "---------------------------------------------------\n",
      "Found: SAC Per Game Stats\n",
      "Found: SAC Totals Stats\n",
      "Team Complete\n",
      "---------------------------------------------------\n",
      "Found: SAS Per Game Stats\n",
      "Found: SAS Totals Stats\n",
      "Team Complete\n",
      "---------------------------------------------------\n",
      "Found: TOR Per Game Stats\n",
      "Found: TOR Totals Stats\n",
      "Team Complete\n",
      "---------------------------------------------------\n",
      "Found: UTA Per Game Stats\n",
      "Found: UTA Totals Stats\n",
      "Team Complete\n",
      "---------------------------------------------------\n",
      "Found: WAS Per Game Stats\n",
      "Found: WAS Totals Stats\n",
      "Team Complete\n",
      "---------------------------------------------------\n"
     ]
    }
   ],
   "source": [
    "#Add in url and run browser\n",
    "for team in teams:\n",
    "    url = f'https://www.basketball-reference.com/teams/{team}/2022.html'\n",
    "    browser.visit(url)\n",
    "    html=browser.html\n",
    "    soup = BeautifulSoup(html, 'html.parser')\n",
    "    \n",
    "    #find first table\n",
    "    tables = pd.read_html(url)\n",
    "    atltables = tables[1]\n",
    "\n",
    "    #clean table\n",
    "    atl = atltables.set_index(\"Rk\")\n",
    "    atl1 = atl.rename(columns={'Unnamed: 1':'Player'})\n",
    "    atl2 = atl1.dropna(subset=['Player'])\n",
    "\n",
    "    #convert to html format and append to list\n",
    "    ATLtable = atl2.to_html()\n",
    "    ATLt = ATLtable.replace('\\n','')\n",
    "    pergame.append(ATLt)\n",
    "    print(f\"Found: {team} Per Game Stats\")\n",
    "\n",
    "    #find second table \n",
    "    atltables2 = tables[2]\n",
    "\n",
    "    #clean\n",
    "    atl2 = atltables2.set_index(\"Rk\")\n",
    "    atl12 = atl2.rename(columns={'Unnamed: 1':'Player'})\n",
    "    atl22 = atl12.dropna(subset=['Player'])\n",
    "\n",
    "    #convert to html format and append to list\n",
    "    ATLtable2 = atl22.to_html()\n",
    "    ATLt2 = ATLtable2.replace('\\n','')\n",
    "    totals.append(ATLt2)\n",
    "    \n",
    "    print(f\"Found: {team} Totals Stats\")\n",
    "    print(f\"Team Complete\")\n",
    "    print(\"---------------------------------------------------\")\n",
    "\n",
    "    "
   ]
  },
  {
   "cell_type": "code",
   "execution_count": 5,
   "id": "021fe28b",
   "metadata": {},
   "outputs": [
    {
     "data": {
      "text/plain": [
       "'<table border=\"1\" class=\"dataframe\">  <thead>    <tr style=\"text-align: right;\">      <th></th>      <th>Player</th>      <th>Age</th>      <th>G</th>      <th>GS</th>      <th>MP</th>      <th>FG</th>      <th>FGA</th>      <th>FG%</th>      <th>3P</th>      <th>3PA</th>      <th>3P%</th>      <th>2P</th>      <th>2PA</th>      <th>2P%</th>      <th>eFG%</th>      <th>FT</th>      <th>FTA</th>      <th>FT%</th>      <th>ORB</th>      <th>DRB</th>      <th>TRB</th>      <th>AST</th>      <th>STL</th>      <th>BLK</th>      <th>TOV</th>      <th>PF</th>      <th>PTS</th>    </tr>    <tr>      <th>Rk</th>      <th></th>      <th></th>      <th></th>      <th></th>      <th></th>      <th></th>      <th></th>      <th></th>      <th></th>      <th></th>      <th></th>      <th></th>      <th></th>      <th></th>      <th></th>      <th></th>      <th></th>      <th></th>      <th></th>      <th></th>      <th></th>      <th></th>      <th></th>      <th></th>      <th></th>      <th></th>      <th></th>    </tr>  </thead>  <tbody>    <tr>      <th>1.0</th>      <td>Dorian Finney-Smith</td>      <td>28.0</td>      <td>61</td>      <td>61.0</td>      <td>2010</td>      <td>230</td>      <td>513</td>      <td>0.448</td>      <td>117</td>      <td>312</td>      <td>0.375</td>      <td>113</td>      <td>201</td>      <td>0.562</td>      <td>0.562</td>      <td>48</td>      <td>71</td>      <td>0.676</td>      <td>97</td>      <td>203</td>      <td>300</td>      <td>115</td>      <td>71</td>      <td>31</td>      <td>66</td>      <td>142</td>      <td>625</td>    </tr>    <tr>      <th>2.0</th>      <td>Jalen Brunson</td>      <td>25.0</td>      <td>61</td>      <td>43.0</td>      <td>1962</td>      <td>392</td>      <td>781</td>      <td>0.502</td>      <td>71</td>      <td>188</td>      <td>0.378</td>      <td>321</td>      <td>593</td>      <td>0.541</td>      <td>0.547</td>      <td>126</td>      <td>155</td>      <td>0.813</td>      <td>33</td>      <td>195</td>      <td>228</td>      <td>325</td>      <td>57</td>      <td>3</td>      <td>106</td>      <td>120</td>      <td>981</td>    </tr>    <tr>      <th>3.0</th>      <td>Luka Dončić</td>      <td>22.0</td>      <td>47</td>      <td>47.0</td>      <td>1668</td>      <td>455</td>      <td>1019</td>      <td>0.447</td>      <td>128</td>      <td>387</td>      <td>0.331</td>      <td>327</td>      <td>632</td>      <td>0.517</td>      <td>0.509</td>      <td>256</td>      <td>347</td>      <td>0.738</td>      <td>42</td>      <td>388</td>      <td>430</td>      <td>413</td>      <td>54</td>      <td>25</td>      <td>213</td>      <td>114</td>      <td>1294</td>    </tr>    <tr>      <th>4.0</th>      <td>Reggie Bullock</td>      <td>30.0</td>      <td>52</td>      <td>21.0</td>      <td>1346</td>      <td>148</td>      <td>360</td>      <td>0.411</td>      <td>101</td>      <td>278</td>      <td>0.363</td>      <td>47</td>      <td>82</td>      <td>0.573</td>      <td>0.551</td>      <td>32</td>      <td>38</td>      <td>0.842</td>      <td>22</td>      <td>155</td>      <td>177</td>      <td>54</td>      <td>28</td>      <td>9</td>      <td>29</td>      <td>77</td>      <td>429</td>    </tr>    <tr>      <th>5.0</th>      <td>Dwight Powell</td>      <td>30.0</td>      <td>62</td>      <td>51.0</td>      <td>1279</td>      <td>176</td>      <td>269</td>      <td>0.654</td>      <td>13</td>      <td>32</td>      <td>0.406</td>      <td>163</td>      <td>237</td>      <td>0.688</td>      <td>0.678</td>      <td>104</td>      <td>138</td>      <td>0.754</td>      <td>127</td>      <td>151</td>      <td>278</td>      <td>67</td>      <td>30</td>      <td>26</td>      <td>48</td>      <td>156</td>      <td>469</td>    </tr>    <tr>      <th>6.0</th>      <td>Tim Hardaway Jr.</td>      <td>29.0</td>      <td>42</td>      <td>20.0</td>      <td>1245</td>      <td>209</td>      <td>530</td>      <td>0.394</td>      <td>102</td>      <td>304</td>      <td>0.336</td>      <td>107</td>      <td>226</td>      <td>0.473</td>      <td>0.491</td>      <td>78</td>      <td>103</td>      <td>0.757</td>      <td>13</td>      <td>143</td>      <td>156</td>      <td>92</td>      <td>38</td>      <td>6</td>      <td>34</td>      <td>74</td>      <td>598</td>    </tr>    <tr>      <th>7.0</th>      <td>Maxi Kleber</td>      <td>30.0</td>      <td>45</td>      <td>20.0</td>      <td>1131</td>      <td>118</td>      <td>277</td>      <td>0.426</td>      <td>72</td>      <td>200</td>      <td>0.360</td>      <td>46</td>      <td>77</td>      <td>0.597</td>      <td>0.556</td>      <td>37</td>      <td>51</td>      <td>0.725</td>      <td>56</td>      <td>211</td>      <td>267</td>      <td>52</td>      <td>25</td>      <td>49</td>      <td>32</td>      <td>101</td>      <td>345</td>    </tr>    <tr>      <th>8.0</th>      <td>Kristaps Porziņģis</td>      <td>26.0</td>      <td>34</td>      <td>34.0</td>      <td>1002</td>      <td>229</td>      <td>508</td>      <td>0.451</td>      <td>49</td>      <td>173</td>      <td>0.283</td>      <td>180</td>      <td>335</td>      <td>0.537</td>      <td>0.499</td>      <td>147</td>      <td>170</td>      <td>0.865</td>      <td>64</td>      <td>197</td>      <td>261</td>      <td>69</td>      <td>25</td>      <td>59</td>      <td>53</td>      <td>88</td>      <td>654</td>    </tr>    <tr>      <th>9.0</th>      <td>Josh Green</td>      <td>21.0</td>      <td>47</td>      <td>2.0</td>      <td>668</td>      <td>84</td>      <td>162</td>      <td>0.519</td>      <td>12</td>      <td>39</td>      <td>0.308</td>      <td>72</td>      <td>123</td>      <td>0.585</td>      <td>0.556</td>      <td>25</td>      <td>35</td>      <td>0.714</td>      <td>33</td>      <td>70</td>      <td>103</td>      <td>60</td>      <td>29</td>      <td>9</td>      <td>22</td>      <td>81</td>      <td>205</td>    </tr>    <tr>      <th>10.0</th>      <td>Frank Ntilikina</td>      <td>23.0</td>      <td>47</td>      <td>5.0</td>      <td>589</td>      <td>72</td>      <td>190</td>      <td>0.379</td>      <td>34</td>      <td>100</td>      <td>0.340</td>      <td>38</td>      <td>90</td>      <td>0.422</td>      <td>0.468</td>      <td>23</td>      <td>24</td>      <td>0.958</td>      <td>7</td>      <td>56</td>      <td>63</td>      <td>54</td>      <td>24</td>      <td>6</td>      <td>26</td>      <td>51</td>      <td>201</td>    </tr>    <tr>      <th>11.0</th>      <td>Sterling Brown</td>      <td>26.0</td>      <td>38</td>      <td>3.0</td>      <td>523</td>      <td>51</td>      <td>128</td>      <td>0.398</td>      <td>27</td>      <td>79</td>      <td>0.342</td>      <td>24</td>      <td>49</td>      <td>0.490</td>      <td>0.504</td>      <td>10</td>      <td>11</td>      <td>0.909</td>      <td>22</td>      <td>106</td>      <td>128</td>      <td>30</td>      <td>12</td>      <td>5</td>      <td>21</td>      <td>44</td>      <td>139</td>    </tr>    <tr>      <th>12.0</th>      <td>Trey Burke</td>      <td>29.0</td>      <td>32</td>      <td>0.0</td>      <td>346</td>      <td>71</td>      <td>171</td>      <td>0.415</td>      <td>23</td>      <td>69</td>      <td>0.333</td>      <td>48</td>      <td>102</td>      <td>0.471</td>      <td>0.482</td>      <td>16</td>      <td>17</td>      <td>0.941</td>      <td>3</td>      <td>25</td>      <td>28</td>      <td>46</td>      <td>10</td>      <td>0</td>      <td>21</td>      <td>31</td>      <td>181</td>    </tr>    <tr>      <th>13.0</th>      <td>Marquese Chriss</td>      <td>24.0</td>      <td>23</td>      <td>0.0</td>      <td>256</td>      <td>48</td>      <td>101</td>      <td>0.475</td>      <td>7</td>      <td>21</td>      <td>0.333</td>      <td>41</td>      <td>80</td>      <td>0.513</td>      <td>0.510</td>      <td>12</td>      <td>19</td>      <td>0.632</td>      <td>22</td>      <td>58</td>      <td>80</td>      <td>12</td>      <td>11</td>      <td>10</td>      <td>17</td>      <td>49</td>      <td>115</td>    </tr>    <tr>      <th>14.0</th>      <td>Willie Cauley-Stein</td>      <td>28.0</td>      <td>18</td>      <td>2.0</td>      <td>177</td>      <td>16</td>      <td>35</td>      <td>0.457</td>      <td>1</td>      <td>2</td>      <td>0.500</td>      <td>15</td>      <td>33</td>      <td>0.455</td>      <td>0.471</td>      <td>1</td>      <td>2</td>      <td>0.500</td>      <td>13</td>      <td>25</td>      <td>38</td>      <td>9</td>      <td>6</td>      <td>3</td>      <td>7</td>      <td>17</td>      <td>34</td>    </tr>    <tr>      <th>15.0</th>      <td>Moses Brown</td>      <td>22.0</td>      <td>26</td>      <td>1.0</td>      <td>169</td>      <td>27</td>      <td>50</td>      <td>0.540</td>      <td>0</td>      <td>0</td>      <td>NaN</td>      <td>27</td>      <td>50</td>      <td>0.540</td>      <td>0.540</td>      <td>27</td>      <td>43</td>      <td>0.628</td>      <td>16</td>      <td>45</td>      <td>61</td>      <td>1</td>      <td>3</td>      <td>9</td>      <td>14</td>      <td>28</td>      <td>81</td>    </tr>    <tr>      <th>16.0</th>      <td>Spencer Dinwiddie</td>      <td>28.0</td>      <td>5</td>      <td>0.0</td>      <td>135</td>      <td>28</td>      <td>47</td>      <td>0.596</td>      <td>8</td>      <td>18</td>      <td>0.444</td>      <td>20</td>      <td>29</td>      <td>0.690</td>      <td>0.681</td>      <td>6</td>      <td>13</td>      <td>0.462</td>      <td>1</td>      <td>12</td>      <td>13</td>      <td>22</td>      <td>4</td>      <td>1</td>      <td>5</td>      <td>7</td>      <td>70</td>    </tr>    <tr>      <th>17.0</th>      <td>Theo Pinson</td>      <td>26.0</td>      <td>16</td>      <td>0.0</td>      <td>120</td>      <td>9</td>      <td>32</td>      <td>0.281</td>      <td>6</td>      <td>25</td>      <td>0.240</td>      <td>3</td>      <td>7</td>      <td>0.429</td>      <td>0.375</td>      <td>4</td>      <td>4</td>      <td>1.000</td>      <td>1</td>      <td>18</td>      <td>19</td>      <td>13</td>      <td>4</td>      <td>2</td>      <td>2</td>      <td>9</td>      <td>28</td>    </tr>    <tr>      <th>18.0</th>      <td>Boban Marjanović</td>      <td>33.0</td>      <td>17</td>      <td>0.0</td>      <td>98</td>      <td>36</td>      <td>57</td>      <td>0.632</td>      <td>1</td>      <td>3</td>      <td>0.333</td>      <td>35</td>      <td>54</td>      <td>0.648</td>      <td>0.640</td>      <td>8</td>      <td>16</td>      <td>0.500</td>      <td>7</td>      <td>23</td>      <td>30</td>      <td>2</td>      <td>0</td>      <td>2</td>      <td>11</td>      <td>20</td>      <td>81</td>    </tr>    <tr>      <th>19.0</th>      <td>Dāvis Bertāns</td>      <td>29.0</td>      <td>5</td>      <td>0.0</td>      <td>81</td>      <td>13</td>      <td>34</td>      <td>0.382</td>      <td>11</td>      <td>32</td>      <td>0.344</td>      <td>2</td>      <td>2</td>      <td>1.000</td>      <td>0.544</td>      <td>2</td>      <td>2</td>      <td>1.000</td>      <td>1</td>      <td>11</td>      <td>12</td>      <td>2</td>      <td>1</td>      <td>2</td>      <td>0</td>      <td>6</td>      <td>39</td>    </tr>    <tr>      <th>20.0</th>      <td>Brandon Knight</td>      <td>30.0</td>      <td>3</td>      <td>0.0</td>      <td>54</td>      <td>9</td>      <td>20</td>      <td>0.450</td>      <td>4</td>      <td>13</td>      <td>0.308</td>      <td>5</td>      <td>7</td>      <td>0.714</td>      <td>0.550</td>      <td>8</td>      <td>8</td>      <td>1.000</td>      <td>0</td>      <td>7</td>      <td>7</td>      <td>8</td>      <td>1</td>      <td>0</td>      <td>4</td>      <td>5</td>      <td>30</td>    </tr>    <tr>      <th>21.0</th>      <td>Carlik Jones</td>      <td>24.0</td>      <td>3</td>      <td>0.0</td>      <td>19</td>      <td>0</td>      <td>7</td>      <td>0.000</td>      <td>0</td>      <td>1</td>      <td>0.000</td>      <td>0</td>      <td>6</td>      <td>0.000</td>      <td>0.000</td>      <td>2</td>      <td>2</td>      <td>1.000</td>      <td>1</td>      <td>2</td>      <td>3</td>      <td>5</td>      <td>1</td>      <td>0</td>      <td>3</td>      <td>0</td>      <td>2</td>    </tr>    <tr>      <th>22.0</th>      <td>George King</td>      <td>28.0</td>      <td>4</td>      <td>0.0</td>      <td>19</td>      <td>0</td>      <td>5</td>      <td>0.000</td>      <td>0</td>      <td>4</td>      <td>0.000</td>      <td>0</td>      <td>1</td>      <td>0.000</td>      <td>0.000</td>      <td>1</td>      <td>2</td>      <td>0.500</td>      <td>0</td>      <td>5</td>      <td>5</td>      <td>0</td>      <td>0</td>      <td>0</td>      <td>1</td>      <td>4</td>      <td>1</td>    </tr>    <tr>      <th>23.0</th>      <td>Eugene Omoruyi</td>      <td>24.0</td>      <td>4</td>      <td>0.0</td>      <td>18</td>      <td>2</td>      <td>5</td>      <td>0.400</td>      <td>1</td>      <td>2</td>      <td>0.500</td>      <td>1</td>      <td>3</td>      <td>0.333</td>      <td>0.500</td>      <td>2</td>      <td>4</td>      <td>0.500</td>      <td>2</td>      <td>5</td>      <td>7</td>      <td>2</td>      <td>0</td>      <td>0</td>      <td>0</td>      <td>2</td>      <td>7</td>    </tr>    <tr>      <th>24.0</th>      <td>Charlie Brown Jr.</td>      <td>24.0</td>      <td>3</td>      <td>0.0</td>      <td>15</td>      <td>1</td>      <td>5</td>      <td>0.200</td>      <td>0</td>      <td>3</td>      <td>0.000</td>      <td>1</td>      <td>2</td>      <td>0.500</td>      <td>0.200</td>      <td>0</td>      <td>0</td>      <td>NaN</td>      <td>0</td>      <td>1</td>      <td>1</td>      <td>1</td>      <td>2</td>      <td>1</td>      <td>0</td>      <td>2</td>      <td>2</td>    </tr>    <tr>      <th>25.0</th>      <td>Isaiah Thomas</td>      <td>32.0</td>      <td>1</td>      <td>0.0</td>      <td>13</td>      <td>3</td>      <td>8</td>      <td>0.375</td>      <td>0</td>      <td>3</td>      <td>0.000</td>      <td>3</td>      <td>5</td>      <td>0.600</td>      <td>0.375</td>      <td>0</td>      <td>0</td>      <td>NaN</td>      <td>0</td>      <td>0</td>      <td>0</td>      <td>4</td>      <td>0</td>      <td>0</td>      <td>0</td>      <td>0</td>      <td>6</td>    </tr>    <tr>      <th>26.0</th>      <td>JaQuori McLaughlin</td>      <td>24.0</td>      <td>4</td>      <td>0.0</td>      <td>11</td>      <td>0</td>      <td>2</td>      <td>0.000</td>      <td>0</td>      <td>1</td>      <td>0.000</td>      <td>0</td>      <td>1</td>      <td>0.000</td>      <td>0.000</td>      <td>0</td>      <td>0</td>      <td>NaN</td>      <td>0</td>      <td>0</td>      <td>0</td>      <td>2</td>      <td>0</td>      <td>0</td>      <td>0</td>      <td>1</td>      <td>0</td>    </tr>  </tbody></table>'"
      ]
     },
     "execution_count": 5,
     "metadata": {},
     "output_type": "execute_result"
    }
   ],
   "source": [
    "totals[6]"
   ]
  },
  {
   "cell_type": "code",
   "execution_count": null,
   "id": "611120b6",
   "metadata": {},
   "outputs": [],
   "source": []
  },
  {
   "cell_type": "code",
   "execution_count": null,
   "id": "e56ca97c",
   "metadata": {},
   "outputs": [],
   "source": []
  },
  {
   "cell_type": "code",
   "execution_count": null,
   "id": "83238f59",
   "metadata": {},
   "outputs": [],
   "source": []
  },
  {
   "cell_type": "code",
   "execution_count": null,
   "id": "19570e88",
   "metadata": {},
   "outputs": [],
   "source": []
  },
  {
   "cell_type": "code",
   "execution_count": null,
   "id": "8d27d599",
   "metadata": {},
   "outputs": [],
   "source": []
  },
  {
   "cell_type": "code",
   "execution_count": null,
   "id": "f474d850",
   "metadata": {},
   "outputs": [],
   "source": []
  }
 ],
 "metadata": {
  "kernelspec": {
   "display_name": "Python 3",
   "language": "python",
   "name": "python3"
  },
  "language_info": {
   "codemirror_mode": {
    "name": "ipython",
    "version": 3
   },
   "file_extension": ".py",
   "mimetype": "text/x-python",
   "name": "python",
   "nbconvert_exporter": "python",
   "pygments_lexer": "ipython3",
   "version": "3.8.8"
  }
 },
 "nbformat": 4,
 "nbformat_minor": 5
}
