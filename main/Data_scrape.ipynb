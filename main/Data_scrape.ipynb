{
 "cells": [
  {
   "cell_type": "code",
   "execution_count": 1,
   "id": "6351211d",
   "metadata": {},
   "outputs": [],
   "source": [
    "from splinter import browser\n",
    "from bs4 import BeautifulSoup\n",
    "from webdriver_manager.chrome import ChromeDriverManager\n",
    "import pandas as pd\n",
    "import requests"
   ]
  },
  {
   "cell_type": "markdown",
   "id": "9121cd95",
   "metadata": {},
   "source": [
    "# Data pull"
   ]
  },
  {
   "cell_type": "code",
   "execution_count": 2,
   "id": "354f90bd",
   "metadata": {},
   "outputs": [],
   "source": [
    "# Make a list of all team names and make a list for table names\n",
    "path = 'C:\\\\Users\\\\kounn\\\\OneDrive\\\\Documents\\\\Bootcamp_Project4\\\\machine-learning-project-4\\\\data\\\\'\n",
    "teams = ['ATL','BOS','CHA','CHI','CLE','DAL','DEN','DET','GSW','HOU','IND','LAC','LAL','MEM','MIA','MIL','MIN','NJN','NOP','NYK','OKC','ORL','PHI','PHO','POR','SAC','SAS','TOR','UTA','WAS']\n",
    "table_name = []\n",
    "table_path = []\n",
    "team_tables = teams\n",
    "\n",
    "# Create CSV names\n",
    "for team in teams:\n",
    "    table_name.append(f\"table_{team}.csv\")\n",
    "\n",
    "# Create Pathways\n",
    "for table in table_name:\n",
    "    table_path.append(path + str(table))"
   ]
  },
  {
   "cell_type": "code",
   "execution_count": 3,
   "id": "05b277a1",
   "metadata": {},
   "outputs": [],
   "source": [
    "# Put all tables into a list\n",
    "x = 0\n",
    "\n",
    "# Create URL for all queries\n",
    "for team in teams:\n",
    "    query_url = f\"https://www.basketball-reference.com/teams/{team}/stats_basic_yr_yr.html\"\n",
    "    \n",
    "    # Append each table into team_tables\n",
    "    while x < len(teams):\n",
    "        df = pd.read_html(query_url)\n",
    "        team_tables[x] = df[0]\n",
    "        x = x+1"
   ]
  },
  {
   "cell_type": "markdown",
   "id": "fbefebd6",
   "metadata": {},
   "source": [
    "# Data cleaning"
   ]
  },
  {
   "cell_type": "code",
   "execution_count": 4,
   "id": "d5612ec6",
   "metadata": {},
   "outputs": [],
   "source": [
    "# Drop NAN columns for all tables\n",
    "x = 0\n",
    "\n",
    "while x < len(teams):\n",
    "    team_tables[x] = team_tables[x].drop(columns=['Unnamed: 3', 'Unnamed: 7', 'Lg', 'Tm', 'Age', 'Ht.', 'Wt.'])\n",
    "    x = x+1"
   ]
  },
  {
   "cell_type": "code",
   "execution_count": 5,
   "id": "52c8f4c2",
   "metadata": {},
   "outputs": [],
   "source": [
    "# Drop all NAN rows for all tables\n",
    "x = 0\n",
    "\n",
    "while x < len(teams):\n",
    "    team_tables[x] = team_tables[x].dropna()\n",
    "    team_tables[x] = team_tables[x].drop([20, 41, 62])\n",
    "    x = x+1"
   ]
  },
  {
   "cell_type": "code",
   "execution_count": 7,
   "id": "419eb852",
   "metadata": {},
   "outputs": [
    {
     "data": {
      "text/plain": [
       "G      object\n",
       "MP     object\n",
       "FG     object\n",
       "FGA    object\n",
       "FG%    object\n",
       "3P     object\n",
       "3PA    object\n",
       "3P%    object\n",
       "2P     object\n",
       "2PA    object\n",
       "2P%    object\n",
       "FT     object\n",
       "FTA    object\n",
       "FT%    object\n",
       "ORB    object\n",
       "DRB    object\n",
       "TRB    object\n",
       "AST    object\n",
       "STL    object\n",
       "BLK    object\n",
       "TOV    object\n",
       "PF     object\n",
       "PTS    object\n",
       "dtype: object"
      ]
     },
     "execution_count": 7,
     "metadata": {},
     "output_type": "execute_result"
    }
   ],
   "source": [
    "team_tables[0].dtypes"
   ]
  },
  {
   "cell_type": "markdown",
   "id": "6a595af0",
   "metadata": {},
   "source": [
    "# Data export"
   ]
  },
  {
   "cell_type": "code",
   "execution_count": 17,
   "id": "f20a98a3",
   "metadata": {},
   "outputs": [],
   "source": [
    "# Export all DF to Data folder\n",
    "x = 0\n",
    "\n",
    "while x < len(teams):\n",
    "    pd.DataFrame.to_csv (team_tables[x] ,table_path[x], index = False, header=True)\n",
    "    x = x+1"
   ]
  },
  {
   "cell_type": "code",
   "execution_count": null,
   "id": "39b399ab",
   "metadata": {},
   "outputs": [],
   "source": []
  }
 ],
 "metadata": {
  "kernelspec": {
   "display_name": "Python 3 (ipykernel)",
   "language": "python",
   "name": "python3"
  },
  "language_info": {
   "codemirror_mode": {
    "name": "ipython",
    "version": 3
   },
   "file_extension": ".py",
   "mimetype": "text/x-python",
   "name": "python",
   "nbconvert_exporter": "python",
   "pygments_lexer": "ipython3",
   "version": "3.10.1"
  }
 },
 "nbformat": 4,
 "nbformat_minor": 5
}
