{
 "cells": [
  {
   "cell_type": "code",
   "execution_count": 4,
   "id": "6351211d",
   "metadata": {},
   "outputs": [],
   "source": [
    "from splinter import browser\n",
    "from bs4 import BeautifulSoup\n",
    "from webdriver_manager.chrome import ChromeDriverManager\n",
    "import pandas as pd\n",
    "import requests"
   ]
  },
  {
   "cell_type": "markdown",
   "id": "9121cd95",
   "metadata": {},
   "source": [
    "# Data pull"
   ]
  },
  {
   "cell_type": "code",
   "execution_count": 11,
   "id": "354f90bd",
   "metadata": {},
   "outputs": [],
   "source": [
    "# Make a list of all team names and make a list for table names\n",
    "path = 'C:\\\\Users\\\\kounn\\\\OneDrive\\\\Documents\\\\Bootcamp_Project4\\\\machine-learning-project-4\\\\data\\\\'\n",
    "teams = ['ATL','BOS','CHA','CHI','CLE','DAL','DEN','DET','GSW','HOU','IND','LAC','LAL','MEM','MIA','MIL','MIN','NJN','NOP','NYK','OKC','ORL','PHI','PHO','POR','SAC','SAS','TOR','UTA','WAS']\n",
    "table_name = []\n",
    "table_path = []\n",
    "team_tables = teams\n",
    "\n",
    "# Create CSV names\n",
    "for team in teams:\n",
    "    table_name.append(f\"table_{team}.csv\")\n",
    "\n",
    "# Create Pathways\n",
    "for table in table_name:\n",
    "    table_path.append(path + str(table))"
   ]
  },
  {
   "cell_type": "code",
   "execution_count": 12,
   "id": "05b277a1",
   "metadata": {},
   "outputs": [],
   "source": [
    "# Put all tables into a list\n",
    "x = 0\n",
    "\n",
    "# Create URL for all queries\n",
    "for team in teams:\n",
    "    query_url = f\"https://www.basketball-reference.com/teams/{team}/stats_basic_yr_yr.html\"\n",
    "    \n",
    "    # Append each table into team_tables\n",
    "    while x < len(teams):\n",
    "        df = pd.read_html(query_url)\n",
    "        team_tables[x] = df[0]\n",
    "        x = x+1"
   ]
  },
  {
   "cell_type": "markdown",
   "id": "fbefebd6",
   "metadata": {},
   "source": [
    "# Data cleaning"
   ]
  },
  {
   "cell_type": "code",
   "execution_count": 13,
   "id": "d5612ec6",
   "metadata": {},
   "outputs": [],
   "source": [
    "# Drop NAN columns for all tables\n",
    "x = 0\n",
    "\n",
    "while x < len(teams):\n",
    "    team_tables[x] = team_tables[x].drop(columns=['Unnamed: 3', 'Unnamed: 7', 'Season', 'Lg', 'Tm', 'Age', 'Ht.', 'Wt.'])\n",
    "    x = x+1"
   ]
  },
  {
   "cell_type": "code",
   "execution_count": 14,
   "id": "52c8f4c2",
   "metadata": {},
   "outputs": [],
   "source": [
    "# Drop all NAN rows for all tables\n",
    "x = 0\n",
    "\n",
    "while x < len(teams):\n",
    "    team_tables[x] = team_tables[x].dropna()\n",
    "    team_tables[x] = team_tables[x].drop([20, 41, 62])\n",
    "    x = x+1"
   ]
  },
  {
   "cell_type": "markdown",
   "id": "6a595af0",
   "metadata": {},
   "source": [
    "# Data export"
   ]
  },
  {
   "cell_type": "code",
   "execution_count": 17,
   "id": "f20a98a3",
   "metadata": {},
   "outputs": [],
   "source": [
    "# Export all DF to Data folder\n",
    "x = 0\n",
    "\n",
    "while x < len(teams):\n",
    "    pd.DataFrame.to_csv (team_tables[x] ,table_path[x], index = False, header=True)\n",
    "    x = x+1"
   ]
  },
  {
   "cell_type": "code",
   "execution_count": null,
   "id": "39b399ab",
   "metadata": {},
   "outputs": [],
   "source": []
  }
 ],
 "metadata": {
  "kernelspec": {
   "display_name": "Python 3 (ipykernel)",
   "language": "python",
   "name": "python3"
  },
  "language_info": {
   "codemirror_mode": {
    "name": "ipython",
    "version": 3
   },
   "file_extension": ".py",
   "mimetype": "text/x-python",
   "name": "python",
   "nbconvert_exporter": "python",
   "pygments_lexer": "ipython3",
   "version": "3.10.1"
  }
 },
 "nbformat": 4,
 "nbformat_minor": 5
}
