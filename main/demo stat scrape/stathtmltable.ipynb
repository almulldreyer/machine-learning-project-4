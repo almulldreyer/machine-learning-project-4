{
 "cells": [
  {
   "cell_type": "code",
   "execution_count": null,
   "id": "914f9b0e",
   "metadata": {},
   "outputs": [],
   "source": [
    "#Imports\n",
    "from splinter import browser\n",
    "from bs4 import BeautifulSoup\n",
    "from webdriver_manager.chrome import ChromeDriverManager\n",
    "import pandas as pd\n",
    "import requests"
   ]
  },
  {
   "cell_type": "code",
   "execution_count": null,
   "id": "46046a31",
   "metadata": {},
   "outputs": [],
   "source": [
    "#Splinter \n",
    "executable_path = {'executable_path': ChromeDriverManager().install()}\n",
    "browser = Browser('chrome', **executable_path, headless=False)"
   ]
  },
  {
   "cell_type": "code",
   "execution_count": null,
   "id": "52d70e72",
   "metadata": {},
   "outputs": [],
   "source": [
    "# Make a list of all team names\n",
    "teams = ['ATL','BOS','CHA','CHI','CLE','DAL','DEN','DET','GSW','HOU','IND','LAC','LAL','MEM','MIA','MIL','MIN','NJN','NOP','NYK','OKC','ORL','PHI','PHO','POR','SAC','SAS','TOR','UTA','WAS']"
   ]
  },
  {
   "cell_type": "code",
   "execution_count": null,
   "id": "e51148cf",
   "metadata": {},
   "outputs": [],
   "source": [
    "#Add in url and run browser\n",
    "for team in teams:\n",
    "    url = f'https://www.basketball-reference.com/teams/{team}/2022.html'\n",
    "    browser.visit(url)\n",
    "    html=browser.html\n",
    "    soup = BeautifulSoup(html, 'html.parser')\n",
    "    \n",
    "    #find first table\n",
    "    tables = pd.read_html(url)\n",
    "    atltables = tables[1]\n",
    "\n",
    "    #clean table\n",
    "    atl = atltables.set_index(\"Rk\")\n",
    "    atl1 = atl.rename(columns={'Unnamed: 1':'Player'})\n",
    "    atl2 = atl1.dropna(subset=['Player'])\n",
    "\n",
    "    #convert to html format\n",
    "    ATLtable = atl2.to_html()\n",
    "    ATLt = ATLtable.replace('\\n','')\n",
    "\n",
    "    #find second table\n",
    "    atltables2 = tables[2]\n",
    "\n",
    "    #clean\n",
    "    atl2 = atltables2.set_index(\"Rk\")\n",
    "    atl12 = atl2.rename(columns={'Unnamed: 1':'Player'})\n",
    "    atl22 = atl12.dropna(subset=['Player'])\n",
    "\n",
    "    #convert to html format\n",
    "    ATLtable2 = atl22.to_html()\n",
    "    ATLt2 = ATLtable2.replace('\\n','')\n",
    "\n",
    "    "
   ]
  },
  {
   "cell_type": "code",
   "execution_count": null,
   "id": "021fe28b",
   "metadata": {},
   "outputs": [],
   "source": []
  },
  {
   "cell_type": "code",
   "execution_count": null,
   "id": "611120b6",
   "metadata": {},
   "outputs": [],
   "source": []
  },
  {
   "cell_type": "code",
   "execution_count": null,
   "id": "e56ca97c",
   "metadata": {},
   "outputs": [],
   "source": []
  },
  {
   "cell_type": "code",
   "execution_count": null,
   "id": "83238f59",
   "metadata": {},
   "outputs": [],
   "source": []
  },
  {
   "cell_type": "code",
   "execution_count": null,
   "id": "19570e88",
   "metadata": {},
   "outputs": [],
   "source": []
  },
  {
   "cell_type": "code",
   "execution_count": null,
   "id": "8d27d599",
   "metadata": {},
   "outputs": [],
   "source": []
  },
  {
   "cell_type": "code",
   "execution_count": null,
   "id": "f474d850",
   "metadata": {},
   "outputs": [],
   "source": []
  }
 ],
 "metadata": {
  "kernelspec": {
   "display_name": "Python 3",
   "language": "python",
   "name": "python3"
  },
  "language_info": {
   "codemirror_mode": {
    "name": "ipython",
    "version": 3
   },
   "file_extension": ".py",
   "mimetype": "text/x-python",
   "name": "python",
   "nbconvert_exporter": "python",
   "pygments_lexer": "ipython3",
   "version": "3.8.8"
  }
 },
 "nbformat": 4,
 "nbformat_minor": 5
}
