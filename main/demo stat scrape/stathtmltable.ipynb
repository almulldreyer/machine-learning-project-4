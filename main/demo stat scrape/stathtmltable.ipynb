{
 "cells": [
  {
   "cell_type": "code",
   "execution_count": 1,
   "id": "914f9b0e",
   "metadata": {},
   "outputs": [],
   "source": [
    "#Imports\n",
    "#Dependencies\n",
    "from splinter import Browser\n",
    "from bs4 import BeautifulSoup\n",
    "from webdriver_manager.chrome import ChromeDriverManager\n",
    "import pandas as pd\n",
    "import requests"
   ]
  },
  {
   "cell_type": "code",
   "execution_count": 2,
   "id": "46046a31",
   "metadata": {},
   "outputs": [
    {
     "name": "stderr",
     "output_type": "stream",
     "text": [
      "\n",
      "\n",
      "====== WebDriver manager ======\n",
      "Current google-chrome version is 98.0.4758\n",
      "Get LATEST chromedriver version for 98.0.4758 google-chrome\n",
      "Driver [C:\\Users\\skcul\\.wdm\\drivers\\chromedriver\\win32\\98.0.4758.102\\chromedriver.exe] found in cache\n"
     ]
    }
   ],
   "source": [
    "#Splinter \n",
    "executable_path = {'executable_path': ChromeDriverManager().install()}\n",
    "browser = Browser('chrome', **executable_path, headless=False)"
   ]
  },
  {
   "cell_type": "code",
   "execution_count": 3,
   "id": "52d70e72",
   "metadata": {},
   "outputs": [],
   "source": [
    "# Make a list of all team names\n",
    "teams = ['ATL','BOS','CHO','CHI','CLE','DAL','DEN','DET','GSW','HOU','IND','LAC','LAL','MEM','MIA','MIL','MIN','NOP','NYK','OKC','ORL','PHI','PHO','POR','SAC','SAS','TOR','UTA','WAS']\n",
    "pergame = []\n",
    "totals = []"
   ]
  },
  {
   "cell_type": "code",
   "execution_count": 4,
   "id": "e51148cf",
   "metadata": {},
   "outputs": [
    {
     "name": "stdout",
     "output_type": "stream",
     "text": [
      "Found: ATL Per Game Stats\n",
      "Found: ATL Totals Stats\n",
      "---------------------------------------------------\n",
      "Found: BOS Per Game Stats\n",
      "Found: BOS Totals Stats\n",
      "---------------------------------------------------\n",
      "Found: CHO Per Game Stats\n",
      "Found: CHO Totals Stats\n",
      "---------------------------------------------------\n",
      "Found: CHI Per Game Stats\n",
      "Found: CHI Totals Stats\n",
      "---------------------------------------------------\n",
      "Found: CLE Per Game Stats\n",
      "Found: CLE Totals Stats\n",
      "---------------------------------------------------\n",
      "Found: DAL Per Game Stats\n",
      "Found: DAL Totals Stats\n",
      "---------------------------------------------------\n",
      "Found: DEN Per Game Stats\n",
      "Found: DEN Totals Stats\n",
      "---------------------------------------------------\n",
      "Found: DET Per Game Stats\n",
      "Found: DET Totals Stats\n",
      "---------------------------------------------------\n",
      "Found: GSW Per Game Stats\n",
      "Found: GSW Totals Stats\n",
      "---------------------------------------------------\n",
      "Found: HOU Per Game Stats\n",
      "Found: HOU Totals Stats\n",
      "---------------------------------------------------\n",
      "Found: IND Per Game Stats\n",
      "Found: IND Totals Stats\n",
      "---------------------------------------------------\n",
      "Found: LAC Per Game Stats\n",
      "Found: LAC Totals Stats\n",
      "---------------------------------------------------\n",
      "Found: LAL Per Game Stats\n",
      "Found: LAL Totals Stats\n",
      "---------------------------------------------------\n",
      "Found: MEM Per Game Stats\n",
      "Found: MEM Totals Stats\n",
      "---------------------------------------------------\n",
      "Found: MIA Per Game Stats\n",
      "Found: MIA Totals Stats\n",
      "---------------------------------------------------\n",
      "Found: MIL Per Game Stats\n",
      "Found: MIL Totals Stats\n",
      "---------------------------------------------------\n",
      "Found: MIN Per Game Stats\n",
      "Found: MIN Totals Stats\n",
      "---------------------------------------------------\n",
      "Found: NOP Per Game Stats\n",
      "Found: NOP Totals Stats\n",
      "---------------------------------------------------\n",
      "Found: NYK Per Game Stats\n",
      "Found: NYK Totals Stats\n",
      "---------------------------------------------------\n",
      "Found: OKC Per Game Stats\n",
      "Found: OKC Totals Stats\n",
      "---------------------------------------------------\n",
      "Found: ORL Per Game Stats\n",
      "Found: ORL Totals Stats\n",
      "---------------------------------------------------\n",
      "Found: PHI Per Game Stats\n",
      "Found: PHI Totals Stats\n",
      "---------------------------------------------------\n",
      "Found: PHO Per Game Stats\n",
      "Found: PHO Totals Stats\n",
      "---------------------------------------------------\n",
      "Found: POR Per Game Stats\n",
      "Found: POR Totals Stats\n",
      "---------------------------------------------------\n",
      "Found: SAC Per Game Stats\n",
      "Found: SAC Totals Stats\n",
      "---------------------------------------------------\n",
      "Found: SAS Per Game Stats\n",
      "Found: SAS Totals Stats\n",
      "---------------------------------------------------\n",
      "Found: TOR Per Game Stats\n",
      "Found: TOR Totals Stats\n",
      "---------------------------------------------------\n",
      "Found: UTA Per Game Stats\n",
      "Found: UTA Totals Stats\n",
      "---------------------------------------------------\n",
      "Found: WAS Per Game Stats\n",
      "Found: WAS Totals Stats\n",
      "---------------------------------------------------\n"
     ]
    }
   ],
   "source": [
    "#Add in url and run browser\n",
    "for team in teams:\n",
    "    url = f'https://www.basketball-reference.com/teams/{team}/2022.html'\n",
    "    browser.visit(url)\n",
    "    html=browser.html\n",
    "    soup = BeautifulSoup(html, 'html.parser')\n",
    "    \n",
    "    #find first table\n",
    "    tables = pd.read_html(url)\n",
    "    atltables = tables[1]\n",
    "\n",
    "    #clean table\n",
    "    atl = atltables.set_index(\"Rk\")\n",
    "    atl1 = atl.rename(columns={'Unnamed: 1':'Player'})\n",
    "    atl2 = atl1.dropna(subset=['Player'])\n",
    "\n",
    "    #convert to html format and append to list\n",
    "    ATLtable = atl2.to_html()\n",
    "    ATLt = ATLtable.replace('\\n','')\n",
    "    pergame.append(ATLt)\n",
    "    print(f\"Found: {team} Per Game Stats\")\n",
    "\n",
    "    #find second table \n",
    "    atltables2 = tables[2]\n",
    "\n",
    "    #clean\n",
    "    atl2 = atltables2.set_index(\"Rk\")\n",
    "    atl12 = atl2.rename(columns={'Unnamed: 1':'Player'})\n",
    "    atl22 = atl12.dropna(subset=['Player'])\n",
    "\n",
    "    #convert to html format and append to list\n",
    "    ATLtable2 = atl22.to_html()\n",
    "    ATLt2 = ATLtable2.replace('\\n','')\n",
    "    totals.append(ATLt2)\n",
    "    \n",
    "    print(f\"Found: {team} Totals Stats\")\n",
    "    print(\"---------------------------------------------------\")\n",
    "\n",
    "    "
   ]
  },
  {
   "cell_type": "code",
   "execution_count": 5,
   "id": "021fe28b",
   "metadata": {},
   "outputs": [
    {
     "data": {
      "text/plain": [
       "'<table border=\"1\" class=\"dataframe\">  <thead>    <tr style=\"text-align: right;\">      <th></th>      <th>Player</th>      <th>Age</th>      <th>G</th>      <th>GS</th>      <th>MP</th>      <th>FG</th>      <th>FGA</th>      <th>FG%</th>      <th>3P</th>      <th>3PA</th>      <th>3P%</th>      <th>2P</th>      <th>2PA</th>      <th>2P%</th>      <th>eFG%</th>      <th>FT</th>      <th>FTA</th>      <th>FT%</th>      <th>ORB</th>      <th>DRB</th>      <th>TRB</th>      <th>AST</th>      <th>STL</th>      <th>BLK</th>      <th>TOV</th>      <th>PF</th>      <th>PTS</th>    </tr>    <tr>      <th>Rk</th>      <th></th>      <th></th>      <th></th>      <th></th>      <th></th>      <th></th>      <th></th>      <th></th>      <th></th>      <th></th>      <th></th>      <th></th>      <th></th>      <th></th>      <th></th>      <th></th>      <th></th>      <th></th>      <th></th>      <th></th>      <th></th>      <th></th>      <th></th>      <th></th>      <th></th>      <th></th>      <th></th>    </tr>  </thead>  <tbody>    <tr>      <th>1.0</th>      <td>Nikola Jokić</td>      <td>26.0</td>      <td>52</td>      <td>52.0</td>      <td>1718</td>      <td>516</td>      <td>906</td>      <td>0.570</td>      <td>84</td>      <td>226</td>      <td>0.372</td>      <td>432</td>      <td>680</td>      <td>0.635</td>      <td>0.616</td>      <td>236</td>      <td>292</td>      <td>0.808</td>      <td>148</td>      <td>570</td>      <td>718</td>      <td>410</td>      <td>70</td>      <td>38</td>      <td>197</td>      <td>130</td>      <td>1352</td>    </tr>    <tr>      <th>2.0</th>      <td>Aaron Gordon</td>      <td>26.0</td>      <td>53</td>      <td>53.0</td>      <td>1683</td>      <td>298</td>      <td>577</td>      <td>0.516</td>      <td>62</td>      <td>186</td>      <td>0.333</td>      <td>236</td>      <td>391</td>      <td>0.604</td>      <td>0.570</td>      <td>111</td>      <td>151</td>      <td>0.735</td>      <td>90</td>      <td>217</td>      <td>307</td>      <td>139</td>      <td>36</td>      <td>29</td>      <td>94</td>      <td>99</td>      <td>769</td>    </tr>    <tr>      <th>3.0</th>      <td>Will Barton</td>      <td>31.0</td>      <td>51</td>      <td>51.0</td>      <td>1649</td>      <td>295</td>      <td>664</td>      <td>0.444</td>      <td>114</td>      <td>308</td>      <td>0.370</td>      <td>181</td>      <td>356</td>      <td>0.508</td>      <td>0.530</td>      <td>69</td>      <td>88</td>      <td>0.784</td>      <td>32</td>      <td>221</td>      <td>253</td>      <td>200</td>      <td>43</td>      <td>26</td>      <td>96</td>      <td>78</td>      <td>773</td>    </tr>    <tr>      <th>4.0</th>      <td>Monte Morris</td>      <td>26.0</td>      <td>52</td>      <td>51.0</td>      <td>1561</td>      <td>264</td>      <td>555</td>      <td>0.476</td>      <td>84</td>      <td>224</td>      <td>0.375</td>      <td>180</td>      <td>331</td>      <td>0.544</td>      <td>0.551</td>      <td>46</td>      <td>54</td>      <td>0.852</td>      <td>19</td>      <td>135</td>      <td>154</td>      <td>225</td>      <td>35</td>      <td>8</td>      <td>54</td>      <td>63</td>      <td>658</td>    </tr>    <tr>      <th>5.0</th>      <td>Jeff Green</td>      <td>35.0</td>      <td>54</td>      <td>42.0</td>      <td>1325</td>      <td>202</td>      <td>396</td>      <td>0.510</td>      <td>42</td>      <td>130</td>      <td>0.323</td>      <td>160</td>      <td>266</td>      <td>0.602</td>      <td>0.563</td>      <td>115</td>      <td>139</td>      <td>0.827</td>      <td>30</td>      <td>140</td>      <td>170</td>      <td>67</td>      <td>17</td>      <td>21</td>      <td>51</td>      <td>114</td>      <td>561</td>    </tr>    <tr>      <th>6.0</th>      <td>Facundo Campazzo</td>      <td>30.0</td>      <td>54</td>      <td>4.0</td>      <td>1096</td>      <td>104</td>      <td>275</td>      <td>0.378</td>      <td>57</td>      <td>178</td>      <td>0.320</td>      <td>47</td>      <td>97</td>      <td>0.485</td>      <td>0.482</td>      <td>58</td>      <td>72</td>      <td>0.806</td>      <td>20</td>      <td>84</td>      <td>104</td>      <td>201</td>      <td>58</td>      <td>21</td>      <td>63</td>      <td>112</td>      <td>323</td>    </tr>    <tr>      <th>7.0</th>      <td>Austin Rivers</td>      <td>29.0</td>      <td>44</td>      <td>13.0</td>      <td>923</td>      <td>97</td>      <td>235</td>      <td>0.413</td>      <td>53</td>      <td>153</td>      <td>0.346</td>      <td>44</td>      <td>82</td>      <td>0.537</td>      <td>0.526</td>      <td>19</td>      <td>27</td>      <td>0.704</td>      <td>15</td>      <td>59</td>      <td>74</td>      <td>50</td>      <td>32</td>      <td>4</td>      <td>38</td>      <td>69</td>      <td>266</td>    </tr>    <tr>      <th>8.0</th>      <td>Bones Hyland</td>      <td>21.0</td>      <td>46</td>      <td>3.0</td>      <td>829</td>      <td>136</td>      <td>369</td>      <td>0.369</td>      <td>79</td>      <td>228</td>      <td>0.346</td>      <td>57</td>      <td>141</td>      <td>0.404</td>      <td>0.476</td>      <td>52</td>      <td>59</td>      <td>0.881</td>      <td>8</td>      <td>118</td>      <td>126</td>      <td>93</td>      <td>22</td>      <td>13</td>      <td>57</td>      <td>98</td>      <td>403</td>    </tr>    <tr>      <th>9.0</th>      <td>JaMychal Green</td>      <td>31.0</td>      <td>45</td>      <td>7.0</td>      <td>671</td>      <td>102</td>      <td>226</td>      <td>0.451</td>      <td>26</td>      <td>98</td>      <td>0.265</td>      <td>76</td>      <td>128</td>      <td>0.594</td>      <td>0.509</td>      <td>53</td>      <td>61</td>      <td>0.869</td>      <td>46</td>      <td>122</td>      <td>168</td>      <td>37</td>      <td>31</td>      <td>19</td>      <td>40</td>      <td>99</td>      <td>283</td>    </tr>    <tr>      <th>10.0</th>      <td>Zeke Nnaji</td>      <td>21.0</td>      <td>39</td>      <td>1.0</td>      <td>651</td>      <td>95</td>      <td>176</td>      <td>0.540</td>      <td>37</td>      <td>76</td>      <td>0.487</td>      <td>58</td>      <td>100</td>      <td>0.580</td>      <td>0.645</td>      <td>38</td>      <td>62</td>      <td>0.613</td>      <td>55</td>      <td>89</td>      <td>144</td>      <td>15</td>      <td>12</td>      <td>13</td>      <td>21</td>      <td>76</td>      <td>265</td>    </tr>    <tr>      <th>11.0</th>      <td>Davon Reed</td>      <td>26.0</td>      <td>29</td>      <td>3.0</td>      <td>399</td>      <td>45</td>      <td>95</td>      <td>0.474</td>      <td>23</td>      <td>53</td>      <td>0.434</td>      <td>22</td>      <td>42</td>      <td>0.524</td>      <td>0.595</td>      <td>4</td>      <td>5</td>      <td>0.800</td>      <td>10</td>      <td>63</td>      <td>73</td>      <td>29</td>      <td>17</td>      <td>3</td>      <td>8</td>      <td>40</td>      <td>117</td>    </tr>    <tr>      <th>12.0</th>      <td>PJ Dozier</td>      <td>25.0</td>      <td>18</td>      <td>0.0</td>      <td>340</td>      <td>36</td>      <td>99</td>      <td>0.364</td>      <td>15</td>      <td>48</td>      <td>0.313</td>      <td>21</td>      <td>51</td>      <td>0.412</td>      <td>0.439</td>      <td>10</td>      <td>13</td>      <td>0.769</td>      <td>14</td>      <td>49</td>      <td>63</td>      <td>29</td>      <td>11</td>      <td>6</td>      <td>13</td>      <td>33</td>      <td>97</td>    </tr>    <tr>      <th>13.0</th>      <td>Bryn Forbes</td>      <td>28.0</td>      <td>15</td>      <td>0.0</td>      <td>301</td>      <td>59</td>      <td>131</td>      <td>0.450</td>      <td>27</td>      <td>63</td>      <td>0.429</td>      <td>32</td>      <td>68</td>      <td>0.471</td>      <td>0.553</td>      <td>14</td>      <td>15</td>      <td>0.933</td>      <td>2</td>      <td>15</td>      <td>17</td>      <td>17</td>      <td>3</td>      <td>1</td>      <td>10</td>      <td>26</td>      <td>159</td>    </tr>    <tr>      <th>14.0</th>      <td>Michael Porter Jr.</td>      <td>23.0</td>      <td>9</td>      <td>9.0</td>      <td>265</td>      <td>37</td>      <td>103</td>      <td>0.359</td>      <td>10</td>      <td>48</td>      <td>0.208</td>      <td>27</td>      <td>55</td>      <td>0.491</td>      <td>0.408</td>      <td>5</td>      <td>9</td>      <td>0.556</td>      <td>9</td>      <td>50</td>      <td>59</td>      <td>17</td>      <td>10</td>      <td>2</td>      <td>12</td>      <td>16</td>      <td>89</td>    </tr>    <tr>      <th>15.0</th>      <td>Vlatko Čančar</td>      <td>24.0</td>      <td>14</td>      <td>1.0</td>      <td>152</td>      <td>22</td>      <td>39</td>      <td>0.564</td>      <td>7</td>      <td>12</td>      <td>0.583</td>      <td>15</td>      <td>27</td>      <td>0.556</td>      <td>0.654</td>      <td>9</td>      <td>12</td>      <td>0.750</td>      <td>6</td>      <td>17</td>      <td>23</td>      <td>13</td>      <td>2</td>      <td>3</td>      <td>8</td>      <td>13</td>      <td>60</td>    </tr>    <tr>      <th>16.0</th>      <td>Markus Howard</td>      <td>22.0</td>      <td>22</td>      <td>0.0</td>      <td>134</td>      <td>27</td>      <td>73</td>      <td>0.370</td>      <td>23</td>      <td>53</td>      <td>0.434</td>      <td>4</td>      <td>20</td>      <td>0.200</td>      <td>0.527</td>      <td>13</td>      <td>14</td>      <td>0.929</td>      <td>0</td>      <td>6</td>      <td>6</td>      <td>6</td>      <td>7</td>      <td>0</td>      <td>6</td>      <td>11</td>      <td>90</td>    </tr>    <tr>      <th>17.0</th>      <td>DeMarcus Cousins</td>      <td>31.0</td>      <td>8</td>      <td>0.0</td>      <td>105</td>      <td>15</td>      <td>51</td>      <td>0.294</td>      <td>5</td>      <td>18</td>      <td>0.278</td>      <td>10</td>      <td>33</td>      <td>0.303</td>      <td>0.343</td>      <td>14</td>      <td>20</td>      <td>0.700</td>      <td>16</td>      <td>34</td>      <td>50</td>      <td>9</td>      <td>5</td>      <td>2</td>      <td>18</td>      <td>23</td>      <td>49</td>    </tr>    <tr>      <th>18.0</th>      <td>Bol Bol</td>      <td>22.0</td>      <td>14</td>      <td>0.0</td>      <td>81</td>      <td>15</td>      <td>27</td>      <td>0.556</td>      <td>1</td>      <td>4</td>      <td>0.250</td>      <td>14</td>      <td>23</td>      <td>0.609</td>      <td>0.574</td>      <td>2</td>      <td>5</td>      <td>0.400</td>      <td>4</td>      <td>16</td>      <td>20</td>      <td>5</td>      <td>1</td>      <td>2</td>      <td>4</td>      <td>4</td>      <td>33</td>    </tr>    <tr>      <th>19.0</th>      <td>Petr Cornelie</td>      <td>26.0</td>      <td>13</td>      <td>0.0</td>      <td>38</td>      <td>5</td>      <td>15</td>      <td>0.333</td>      <td>1</td>      <td>8</td>      <td>0.125</td>      <td>4</td>      <td>7</td>      <td>0.571</td>      <td>0.367</td>      <td>3</td>      <td>4</td>      <td>0.750</td>      <td>7</td>      <td>7</td>      <td>14</td>      <td>3</td>      <td>1</td>      <td>1</td>      <td>4</td>      <td>7</td>      <td>14</td>    </tr>    <tr>      <th>20.0</th>      <td>Rayjon Tucker</td>      <td>24.0</td>      <td>3</td>      <td>0.0</td>      <td>29</td>      <td>1</td>      <td>2</td>      <td>0.500</td>      <td>1</td>      <td>2</td>      <td>0.500</td>      <td>0</td>      <td>0</td>      <td>NaN</td>      <td>0.750</td>      <td>3</td>      <td>4</td>      <td>0.750</td>      <td>1</td>      <td>3</td>      <td>4</td>      <td>4</td>      <td>1</td>      <td>0</td>      <td>0</td>      <td>3</td>      <td>6</td>    </tr>    <tr>      <th>21.0</th>      <td>James Ennis III</td>      <td>31.0</td>      <td>3</td>      <td>0.0</td>      <td>14</td>      <td>2</td>      <td>6</td>      <td>0.333</td>      <td>0</td>      <td>2</td>      <td>0.000</td>      <td>2</td>      <td>4</td>      <td>0.500</td>      <td>0.333</td>      <td>0</td>      <td>1</td>      <td>0.000</td>      <td>1</td>      <td>1</td>      <td>2</td>      <td>3</td>      <td>0</td>      <td>0</td>      <td>1</td>      <td>1</td>      <td>4</td>    </tr>    <tr>      <th>22.0</th>      <td>Carlik Jones</td>      <td>24.0</td>      <td>2</td>      <td>0.0</td>      <td>4</td>      <td>1</td>      <td>2</td>      <td>0.500</td>      <td>0</td>      <td>0</td>      <td>NaN</td>      <td>1</td>      <td>2</td>      <td>0.500</td>      <td>0.500</td>      <td>0</td>      <td>0</td>      <td>NaN</td>      <td>0</td>      <td>0</td>      <td>0</td>      <td>0</td>      <td>0</td>      <td>0</td>      <td>0</td>      <td>0</td>      <td>2</td>    </tr>  </tbody></table>'"
      ]
     },
     "execution_count": 5,
     "metadata": {},
     "output_type": "execute_result"
    }
   ],
   "source": [
    "totals[6]"
   ]
  },
  {
   "cell_type": "code",
   "execution_count": null,
   "id": "611120b6",
   "metadata": {},
   "outputs": [],
   "source": []
  },
  {
   "cell_type": "code",
   "execution_count": null,
   "id": "e56ca97c",
   "metadata": {},
   "outputs": [],
   "source": []
  },
  {
   "cell_type": "code",
   "execution_count": null,
   "id": "83238f59",
   "metadata": {},
   "outputs": [],
   "source": []
  },
  {
   "cell_type": "code",
   "execution_count": null,
   "id": "19570e88",
   "metadata": {},
   "outputs": [],
   "source": []
  },
  {
   "cell_type": "code",
   "execution_count": null,
   "id": "8d27d599",
   "metadata": {},
   "outputs": [],
   "source": []
  },
  {
   "cell_type": "code",
   "execution_count": null,
   "id": "f474d850",
   "metadata": {},
   "outputs": [],
   "source": []
  }
 ],
 "metadata": {
  "kernelspec": {
   "display_name": "Python 3",
   "language": "python",
   "name": "python3"
  },
  "language_info": {
   "codemirror_mode": {
    "name": "ipython",
    "version": 3
   },
   "file_extension": ".py",
   "mimetype": "text/x-python",
   "name": "python",
   "nbconvert_exporter": "python",
   "pygments_lexer": "ipython3",
   "version": "3.8.8"
  }
 },
 "nbformat": 4,
 "nbformat_minor": 5
}
